{
 "cells": [
  {
   "cell_type": "markdown",
   "id": "badbaacc",
   "metadata": {},
   "source": [
    "## Churn Prediction and Customer Segmentation with XGBoost for Targeted Retention"
   ]
  },
  {
   "cell_type": "markdown",
   "id": "889c095e",
   "metadata": {},
   "source": [
    "### Business Problem\n",
    "\n",
    "Customer churn is a critical challenge for businesses, as retaining existing customers is often more cost-effective than acquiring new ones. In this scenario, the business needs to identify customers who are at high risk of leaving to proactively engage and retain them. Without this insight, the business risks losing valuable customers, leading to decreased revenue and higher customer acquisition costs. The current challenge is to effectively predict which customers are most likely to churn, based on various customer attributes and behaviors."
   ]
  },
  {
   "cell_type": "markdown",
   "id": "17347bc2",
   "metadata": {},
   "source": [
    "### Solution\n",
    "To address the churn prediction problem, I initially built a Random Forest model using customer data. Despite achieving a relatively good accuracy of 83%, the AUC was lower at 0.59, indicating that the model's ability to distinguish between churn and non-churn customers was suboptimal. Given these results, I decided to explore other machine learning techniques to improve model performance.\n",
    "\n",
    "Next, I implemented an XGBoost classifier, a gradient boosting algorithm known for its effectiveness in handling imbalanced datasets and providing higher predictive accuracy. After applying SMOTE for data balancing and performing hyperparameter tuning, I achieved a significant improvement in the model's performance. The final XGBoost model achieved an accuracy of 83.85% and an AUC of 0.835, which demonstrated much better predictive power, especially in distinguishing between high-risk and low-risk customers.\n",
    "\n",
    "To further refine the model’s predictions, I applied a customized probability threshold of 0.3 to classify customers into three risk segments:\n",
    "\n",
    "  -  High Risk: Customers with a high likelihood of churning.\n",
    "  -  Moderate Risk: Customers with a moderate risk of churning.\n",
    "  -  Low Risk: Customers unlikely to churn.\n",
    "\n",
    "This segmentation enabled targeted retention strategies, allowing the business to focus resources effectively on customers at risk of leaving."
   ]
  },
  {
   "cell_type": "markdown",
   "id": "3c1dc8d3",
   "metadata": {},
   "source": [
    "### Business Impact\n",
    "By implementing this churn prediction model, the business gains the ability to:\n",
    "\n",
    "  -  Proactively Retain High-Risk Customers: High-risk customers can be identified early, allowing the business to tailor retention efforts such as personalized offers, loyalty programs, or direct outreach. This reduces the likelihood of losing valuable customers.\n",
    "\n",
    "  -  Optimize Marketing and Customer Support: With segmented customer data, marketing campaigns can be tailored specifically to each group, ensuring that resources are focused on the customers who need the most attention. For example, low-risk customers can receive minimal engagement, while high-risk customers get high-priority interventions.\n",
    "\n",
    "  -  Increase Customer Lifetime Value (CLV): By reducing churn, the business can increase the lifetime value of its customers, leading to higher revenues over time.\n",
    "\n",
    "  -   Cost Efficiency: Focusing retention efforts on high-risk customers helps optimize marketing spend. Instead of broadly targeting all customers, the business can direct resources more effectively, reducing unnecessary costs."
   ]
  },
  {
   "cell_type": "markdown",
   "id": "b46964cf",
   "metadata": {},
   "source": [
    "### Data Source: https://www.kaggle.com/datasets/radheshyamkollipara/bank-customer-churn\n",
    "\n",
    " - CreditScore: Numerical variable indicating creditworthiness.\n",
    " - Geography: Categorical variable indicating the customer’s location.\n",
    " - Gender: Categorical variable (Male/Female).\n",
    " - Age: Numerical variable.\n",
    " - Tenure: Numerical, representing years of association with the bank.\n",
    " - Balance: Numerical, showing account balance.\n",
    " - NumOfProducts: Numerical, number of products/services used.\n",
    " - HasCrCard, IsActiveMember: Binary features (1 or 0).\n",
    " - EstimatedSalary: Numerical variable.\n",
    " - Exited: Target variable (1 = churned, 0 = retained).\n",
    " - Complain, Satisfaction Score, Card Type, Point Earned: Potential predictors."
   ]
  },
  {
   "cell_type": "code",
   "execution_count": 1,
   "id": "ca1030f7",
   "metadata": {},
   "outputs": [],
   "source": [
    "import pandas as pd\n",
    "import numpy as np\n",
    "import seaborn as sns\n",
    "import matplotlib.pyplot as plt"
   ]
  },
  {
   "cell_type": "code",
   "execution_count": 2,
   "id": "0724b1cd",
   "metadata": {},
   "outputs": [],
   "source": [
    "df = pd.read_csv('Customer-Churn-Records.csv')"
   ]
  },
  {
   "cell_type": "markdown",
   "id": "4090a815",
   "metadata": {},
   "source": [
    "Data Preprocessing"
   ]
  },
  {
   "cell_type": "code",
   "execution_count": 3,
   "id": "51b2c2ef",
   "metadata": {},
   "outputs": [
    {
     "data": {
      "text/plain": [
       "<bound method NDFrame.head of       RowNumber  CustomerId    Surname  CreditScore Geography  Gender  Age  \\\n",
       "0             1    15634602   Hargrave          619    France  Female   42   \n",
       "1             2    15647311       Hill          608     Spain  Female   41   \n",
       "2             3    15619304       Onio          502    France  Female   42   \n",
       "3             4    15701354       Boni          699    France  Female   39   \n",
       "4             5    15737888   Mitchell          850     Spain  Female   43   \n",
       "...         ...         ...        ...          ...       ...     ...  ...   \n",
       "9995       9996    15606229   Obijiaku          771    France    Male   39   \n",
       "9996       9997    15569892  Johnstone          516    France    Male   35   \n",
       "9997       9998    15584532        Liu          709    France  Female   36   \n",
       "9998       9999    15682355  Sabbatini          772   Germany    Male   42   \n",
       "9999      10000    15628319     Walker          792    France  Female   28   \n",
       "\n",
       "      Tenure    Balance  NumOfProducts  HasCrCard  IsActiveMember  \\\n",
       "0          2       0.00              1          1               1   \n",
       "1          1   83807.86              1          0               1   \n",
       "2          8  159660.80              3          1               0   \n",
       "3          1       0.00              2          0               0   \n",
       "4          2  125510.82              1          1               1   \n",
       "...      ...        ...            ...        ...             ...   \n",
       "9995       5       0.00              2          1               0   \n",
       "9996      10   57369.61              1          1               1   \n",
       "9997       7       0.00              1          0               1   \n",
       "9998       3   75075.31              2          1               0   \n",
       "9999       4  130142.79              1          1               0   \n",
       "\n",
       "      EstimatedSalary  Exited  Complain  Satisfaction Score Card Type  \\\n",
       "0           101348.88       1         1                   2   DIAMOND   \n",
       "1           112542.58       0         1                   3   DIAMOND   \n",
       "2           113931.57       1         1                   3   DIAMOND   \n",
       "3            93826.63       0         0                   5      GOLD   \n",
       "4            79084.10       0         0                   5      GOLD   \n",
       "...               ...     ...       ...                 ...       ...   \n",
       "9995         96270.64       0         0                   1   DIAMOND   \n",
       "9996        101699.77       0         0                   5  PLATINUM   \n",
       "9997         42085.58       1         1                   3    SILVER   \n",
       "9998         92888.52       1         1                   2      GOLD   \n",
       "9999         38190.78       0         0                   3   DIAMOND   \n",
       "\n",
       "      Point Earned  \n",
       "0              464  \n",
       "1              456  \n",
       "2              377  \n",
       "3              350  \n",
       "4              425  \n",
       "...            ...  \n",
       "9995           300  \n",
       "9996           771  \n",
       "9997           564  \n",
       "9998           339  \n",
       "9999           911  \n",
       "\n",
       "[10000 rows x 18 columns]>"
      ]
     },
     "execution_count": 3,
     "metadata": {},
     "output_type": "execute_result"
    }
   ],
   "source": [
    "df.head\n"
   ]
  },
  {
   "cell_type": "code",
   "execution_count": 4,
   "id": "b02653c9",
   "metadata": {},
   "outputs": [
    {
     "data": {
      "text/html": [
       "<div>\n",
       "<style scoped>\n",
       "    .dataframe tbody tr th:only-of-type {\n",
       "        vertical-align: middle;\n",
       "    }\n",
       "\n",
       "    .dataframe tbody tr th {\n",
       "        vertical-align: top;\n",
       "    }\n",
       "\n",
       "    .dataframe thead th {\n",
       "        text-align: right;\n",
       "    }\n",
       "</style>\n",
       "<table border=\"1\" class=\"dataframe\">\n",
       "  <thead>\n",
       "    <tr style=\"text-align: right;\">\n",
       "      <th></th>\n",
       "      <th>RowNumber</th>\n",
       "      <th>CustomerId</th>\n",
       "      <th>Surname</th>\n",
       "      <th>CreditScore</th>\n",
       "      <th>Geography</th>\n",
       "      <th>Gender</th>\n",
       "      <th>Age</th>\n",
       "      <th>Tenure</th>\n",
       "      <th>Balance</th>\n",
       "      <th>NumOfProducts</th>\n",
       "      <th>HasCrCard</th>\n",
       "      <th>IsActiveMember</th>\n",
       "      <th>EstimatedSalary</th>\n",
       "      <th>Exited</th>\n",
       "      <th>Complain</th>\n",
       "      <th>Satisfaction Score</th>\n",
       "      <th>Card Type</th>\n",
       "      <th>Point Earned</th>\n",
       "    </tr>\n",
       "  </thead>\n",
       "  <tbody>\n",
       "    <tr>\n",
       "      <th>5610</th>\n",
       "      <td>5611</td>\n",
       "      <td>15783816</td>\n",
       "      <td>Lori</td>\n",
       "      <td>733</td>\n",
       "      <td>France</td>\n",
       "      <td>Female</td>\n",
       "      <td>28</td>\n",
       "      <td>5</td>\n",
       "      <td>0.00</td>\n",
       "      <td>2</td>\n",
       "      <td>0</td>\n",
       "      <td>0</td>\n",
       "      <td>12761.16</td>\n",
       "      <td>0</td>\n",
       "      <td>0</td>\n",
       "      <td>5</td>\n",
       "      <td>SILVER</td>\n",
       "      <td>777</td>\n",
       "    </tr>\n",
       "    <tr>\n",
       "      <th>3303</th>\n",
       "      <td>3304</td>\n",
       "      <td>15784320</td>\n",
       "      <td>Lenhardt</td>\n",
       "      <td>632</td>\n",
       "      <td>France</td>\n",
       "      <td>Female</td>\n",
       "      <td>44</td>\n",
       "      <td>3</td>\n",
       "      <td>133793.89</td>\n",
       "      <td>1</td>\n",
       "      <td>1</td>\n",
       "      <td>1</td>\n",
       "      <td>34607.14</td>\n",
       "      <td>1</td>\n",
       "      <td>1</td>\n",
       "      <td>1</td>\n",
       "      <td>SILVER</td>\n",
       "      <td>621</td>\n",
       "    </tr>\n",
       "    <tr>\n",
       "      <th>250</th>\n",
       "      <td>251</td>\n",
       "      <td>15628112</td>\n",
       "      <td>Hughes</td>\n",
       "      <td>771</td>\n",
       "      <td>Germany</td>\n",
       "      <td>Female</td>\n",
       "      <td>36</td>\n",
       "      <td>5</td>\n",
       "      <td>77846.90</td>\n",
       "      <td>1</td>\n",
       "      <td>0</td>\n",
       "      <td>0</td>\n",
       "      <td>99805.99</td>\n",
       "      <td>0</td>\n",
       "      <td>0</td>\n",
       "      <td>5</td>\n",
       "      <td>PLATINUM</td>\n",
       "      <td>895</td>\n",
       "    </tr>\n",
       "    <tr>\n",
       "      <th>6739</th>\n",
       "      <td>6740</td>\n",
       "      <td>15769191</td>\n",
       "      <td>Lipton</td>\n",
       "      <td>509</td>\n",
       "      <td>France</td>\n",
       "      <td>Male</td>\n",
       "      <td>55</td>\n",
       "      <td>8</td>\n",
       "      <td>132387.91</td>\n",
       "      <td>2</td>\n",
       "      <td>1</td>\n",
       "      <td>1</td>\n",
       "      <td>170360.11</td>\n",
       "      <td>0</td>\n",
       "      <td>0</td>\n",
       "      <td>1</td>\n",
       "      <td>PLATINUM</td>\n",
       "      <td>913</td>\n",
       "    </tr>\n",
       "    <tr>\n",
       "      <th>3723</th>\n",
       "      <td>3724</td>\n",
       "      <td>15710978</td>\n",
       "      <td>Palerma</td>\n",
       "      <td>715</td>\n",
       "      <td>Germany</td>\n",
       "      <td>Male</td>\n",
       "      <td>42</td>\n",
       "      <td>2</td>\n",
       "      <td>88120.97</td>\n",
       "      <td>2</td>\n",
       "      <td>1</td>\n",
       "      <td>1</td>\n",
       "      <td>21333.22</td>\n",
       "      <td>0</td>\n",
       "      <td>0</td>\n",
       "      <td>1</td>\n",
       "      <td>DIAMOND</td>\n",
       "      <td>577</td>\n",
       "    </tr>\n",
       "  </tbody>\n",
       "</table>\n",
       "</div>"
      ],
      "text/plain": [
       "      RowNumber  CustomerId   Surname  CreditScore Geography  Gender  Age  \\\n",
       "5610       5611    15783816      Lori          733    France  Female   28   \n",
       "3303       3304    15784320  Lenhardt          632    France  Female   44   \n",
       "250         251    15628112    Hughes          771   Germany  Female   36   \n",
       "6739       6740    15769191    Lipton          509    France    Male   55   \n",
       "3723       3724    15710978   Palerma          715   Germany    Male   42   \n",
       "\n",
       "      Tenure    Balance  NumOfProducts  HasCrCard  IsActiveMember  \\\n",
       "5610       5       0.00              2          0               0   \n",
       "3303       3  133793.89              1          1               1   \n",
       "250        5   77846.90              1          0               0   \n",
       "6739       8  132387.91              2          1               1   \n",
       "3723       2   88120.97              2          1               1   \n",
       "\n",
       "      EstimatedSalary  Exited  Complain  Satisfaction Score Card Type  \\\n",
       "5610         12761.16       0         0                   5    SILVER   \n",
       "3303         34607.14       1         1                   1    SILVER   \n",
       "250          99805.99       0         0                   5  PLATINUM   \n",
       "6739        170360.11       0         0                   1  PLATINUM   \n",
       "3723         21333.22       0         0                   1   DIAMOND   \n",
       "\n",
       "      Point Earned  \n",
       "5610           777  \n",
       "3303           621  \n",
       "250            895  \n",
       "6739           913  \n",
       "3723           577  "
      ]
     },
     "execution_count": 4,
     "metadata": {},
     "output_type": "execute_result"
    }
   ],
   "source": [
    "df.sample(5)"
   ]
  },
  {
   "cell_type": "code",
   "execution_count": 5,
   "id": "e4f23996",
   "metadata": {},
   "outputs": [
    {
     "data": {
      "text/plain": [
       "Index(['RowNumber', 'CustomerId', 'Surname', 'CreditScore', 'Geography',\n",
       "       'Gender', 'Age', 'Tenure', 'Balance', 'NumOfProducts', 'HasCrCard',\n",
       "       'IsActiveMember', 'EstimatedSalary', 'Exited', 'Complain',\n",
       "       'Satisfaction Score', 'Card Type', 'Point Earned'],\n",
       "      dtype='object')"
      ]
     },
     "execution_count": 5,
     "metadata": {},
     "output_type": "execute_result"
    }
   ],
   "source": [
    "df.columns"
   ]
  },
  {
   "cell_type": "code",
   "execution_count": 6,
   "id": "2dabbd43",
   "metadata": {},
   "outputs": [
    {
     "name": "stdout",
     "output_type": "stream",
     "text": [
      "<class 'pandas.core.frame.DataFrame'>\n",
      "RangeIndex: 10000 entries, 0 to 9999\n",
      "Data columns (total 18 columns):\n",
      " #   Column              Non-Null Count  Dtype  \n",
      "---  ------              --------------  -----  \n",
      " 0   RowNumber           10000 non-null  int64  \n",
      " 1   CustomerId          10000 non-null  int64  \n",
      " 2   Surname             10000 non-null  object \n",
      " 3   CreditScore         10000 non-null  int64  \n",
      " 4   Geography           10000 non-null  object \n",
      " 5   Gender              10000 non-null  object \n",
      " 6   Age                 10000 non-null  int64  \n",
      " 7   Tenure              10000 non-null  int64  \n",
      " 8   Balance             10000 non-null  float64\n",
      " 9   NumOfProducts       10000 non-null  int64  \n",
      " 10  HasCrCard           10000 non-null  int64  \n",
      " 11  IsActiveMember      10000 non-null  int64  \n",
      " 12  EstimatedSalary     10000 non-null  float64\n",
      " 13  Exited              10000 non-null  int64  \n",
      " 14  Complain            10000 non-null  int64  \n",
      " 15  Satisfaction Score  10000 non-null  int64  \n",
      " 16  Card Type           10000 non-null  object \n",
      " 17  Point Earned        10000 non-null  int64  \n",
      "dtypes: float64(2), int64(12), object(4)\n",
      "memory usage: 1.4+ MB\n"
     ]
    }
   ],
   "source": [
    "df.info()"
   ]
  },
  {
   "cell_type": "code",
   "execution_count": 7,
   "id": "5581ddf9",
   "metadata": {},
   "outputs": [
    {
     "data": {
      "text/plain": [
       "(10000, 18)"
      ]
     },
     "execution_count": 7,
     "metadata": {},
     "output_type": "execute_result"
    }
   ],
   "source": [
    "df.shape"
   ]
  },
  {
   "cell_type": "code",
   "execution_count": 8,
   "id": "fd44d3e1",
   "metadata": {},
   "outputs": [
    {
     "data": {
      "text/plain": [
       "RowNumber             0\n",
       "CustomerId            0\n",
       "Surname               0\n",
       "CreditScore           0\n",
       "Geography             0\n",
       "Gender                0\n",
       "Age                   0\n",
       "Tenure                0\n",
       "Balance               0\n",
       "NumOfProducts         0\n",
       "HasCrCard             0\n",
       "IsActiveMember        0\n",
       "EstimatedSalary       0\n",
       "Exited                0\n",
       "Complain              0\n",
       "Satisfaction Score    0\n",
       "Card Type             0\n",
       "Point Earned          0\n",
       "dtype: int64"
      ]
     },
     "execution_count": 8,
     "metadata": {},
     "output_type": "execute_result"
    }
   ],
   "source": [
    "df.isnull().sum()"
   ]
  },
  {
   "cell_type": "code",
   "execution_count": 9,
   "id": "d8f14b84",
   "metadata": {},
   "outputs": [
    {
     "data": {
      "text/html": [
       "<div>\n",
       "<style scoped>\n",
       "    .dataframe tbody tr th:only-of-type {\n",
       "        vertical-align: middle;\n",
       "    }\n",
       "\n",
       "    .dataframe tbody tr th {\n",
       "        vertical-align: top;\n",
       "    }\n",
       "\n",
       "    .dataframe thead th {\n",
       "        text-align: right;\n",
       "    }\n",
       "</style>\n",
       "<table border=\"1\" class=\"dataframe\">\n",
       "  <thead>\n",
       "    <tr style=\"text-align: right;\">\n",
       "      <th></th>\n",
       "      <th>count</th>\n",
       "      <th>mean</th>\n",
       "      <th>std</th>\n",
       "      <th>min</th>\n",
       "      <th>25%</th>\n",
       "      <th>50%</th>\n",
       "      <th>75%</th>\n",
       "      <th>max</th>\n",
       "    </tr>\n",
       "  </thead>\n",
       "  <tbody>\n",
       "    <tr>\n",
       "      <th>RowNumber</th>\n",
       "      <td>10000.0</td>\n",
       "      <td>5.000500e+03</td>\n",
       "      <td>2886.895680</td>\n",
       "      <td>1.00</td>\n",
       "      <td>2500.75</td>\n",
       "      <td>5.000500e+03</td>\n",
       "      <td>7.500250e+03</td>\n",
       "      <td>10000.00</td>\n",
       "    </tr>\n",
       "    <tr>\n",
       "      <th>CustomerId</th>\n",
       "      <td>10000.0</td>\n",
       "      <td>1.569094e+07</td>\n",
       "      <td>71936.186123</td>\n",
       "      <td>15565701.00</td>\n",
       "      <td>15628528.25</td>\n",
       "      <td>1.569074e+07</td>\n",
       "      <td>1.575323e+07</td>\n",
       "      <td>15815690.00</td>\n",
       "    </tr>\n",
       "    <tr>\n",
       "      <th>CreditScore</th>\n",
       "      <td>10000.0</td>\n",
       "      <td>6.505288e+02</td>\n",
       "      <td>96.653299</td>\n",
       "      <td>350.00</td>\n",
       "      <td>584.00</td>\n",
       "      <td>6.520000e+02</td>\n",
       "      <td>7.180000e+02</td>\n",
       "      <td>850.00</td>\n",
       "    </tr>\n",
       "    <tr>\n",
       "      <th>Age</th>\n",
       "      <td>10000.0</td>\n",
       "      <td>3.892180e+01</td>\n",
       "      <td>10.487806</td>\n",
       "      <td>18.00</td>\n",
       "      <td>32.00</td>\n",
       "      <td>3.700000e+01</td>\n",
       "      <td>4.400000e+01</td>\n",
       "      <td>92.00</td>\n",
       "    </tr>\n",
       "    <tr>\n",
       "      <th>Tenure</th>\n",
       "      <td>10000.0</td>\n",
       "      <td>5.012800e+00</td>\n",
       "      <td>2.892174</td>\n",
       "      <td>0.00</td>\n",
       "      <td>3.00</td>\n",
       "      <td>5.000000e+00</td>\n",
       "      <td>7.000000e+00</td>\n",
       "      <td>10.00</td>\n",
       "    </tr>\n",
       "    <tr>\n",
       "      <th>Balance</th>\n",
       "      <td>10000.0</td>\n",
       "      <td>7.648589e+04</td>\n",
       "      <td>62397.405202</td>\n",
       "      <td>0.00</td>\n",
       "      <td>0.00</td>\n",
       "      <td>9.719854e+04</td>\n",
       "      <td>1.276442e+05</td>\n",
       "      <td>250898.09</td>\n",
       "    </tr>\n",
       "    <tr>\n",
       "      <th>NumOfProducts</th>\n",
       "      <td>10000.0</td>\n",
       "      <td>1.530200e+00</td>\n",
       "      <td>0.581654</td>\n",
       "      <td>1.00</td>\n",
       "      <td>1.00</td>\n",
       "      <td>1.000000e+00</td>\n",
       "      <td>2.000000e+00</td>\n",
       "      <td>4.00</td>\n",
       "    </tr>\n",
       "    <tr>\n",
       "      <th>HasCrCard</th>\n",
       "      <td>10000.0</td>\n",
       "      <td>7.055000e-01</td>\n",
       "      <td>0.455840</td>\n",
       "      <td>0.00</td>\n",
       "      <td>0.00</td>\n",
       "      <td>1.000000e+00</td>\n",
       "      <td>1.000000e+00</td>\n",
       "      <td>1.00</td>\n",
       "    </tr>\n",
       "    <tr>\n",
       "      <th>IsActiveMember</th>\n",
       "      <td>10000.0</td>\n",
       "      <td>5.151000e-01</td>\n",
       "      <td>0.499797</td>\n",
       "      <td>0.00</td>\n",
       "      <td>0.00</td>\n",
       "      <td>1.000000e+00</td>\n",
       "      <td>1.000000e+00</td>\n",
       "      <td>1.00</td>\n",
       "    </tr>\n",
       "    <tr>\n",
       "      <th>EstimatedSalary</th>\n",
       "      <td>10000.0</td>\n",
       "      <td>1.000902e+05</td>\n",
       "      <td>57510.492818</td>\n",
       "      <td>11.58</td>\n",
       "      <td>51002.11</td>\n",
       "      <td>1.001939e+05</td>\n",
       "      <td>1.493882e+05</td>\n",
       "      <td>199992.48</td>\n",
       "    </tr>\n",
       "    <tr>\n",
       "      <th>Exited</th>\n",
       "      <td>10000.0</td>\n",
       "      <td>2.038000e-01</td>\n",
       "      <td>0.402842</td>\n",
       "      <td>0.00</td>\n",
       "      <td>0.00</td>\n",
       "      <td>0.000000e+00</td>\n",
       "      <td>0.000000e+00</td>\n",
       "      <td>1.00</td>\n",
       "    </tr>\n",
       "    <tr>\n",
       "      <th>Complain</th>\n",
       "      <td>10000.0</td>\n",
       "      <td>2.044000e-01</td>\n",
       "      <td>0.403283</td>\n",
       "      <td>0.00</td>\n",
       "      <td>0.00</td>\n",
       "      <td>0.000000e+00</td>\n",
       "      <td>0.000000e+00</td>\n",
       "      <td>1.00</td>\n",
       "    </tr>\n",
       "    <tr>\n",
       "      <th>Satisfaction Score</th>\n",
       "      <td>10000.0</td>\n",
       "      <td>3.013800e+00</td>\n",
       "      <td>1.405919</td>\n",
       "      <td>1.00</td>\n",
       "      <td>2.00</td>\n",
       "      <td>3.000000e+00</td>\n",
       "      <td>4.000000e+00</td>\n",
       "      <td>5.00</td>\n",
       "    </tr>\n",
       "    <tr>\n",
       "      <th>Point Earned</th>\n",
       "      <td>10000.0</td>\n",
       "      <td>6.065151e+02</td>\n",
       "      <td>225.924839</td>\n",
       "      <td>119.00</td>\n",
       "      <td>410.00</td>\n",
       "      <td>6.050000e+02</td>\n",
       "      <td>8.010000e+02</td>\n",
       "      <td>1000.00</td>\n",
       "    </tr>\n",
       "  </tbody>\n",
       "</table>\n",
       "</div>"
      ],
      "text/plain": [
       "                      count          mean           std          min  \\\n",
       "RowNumber           10000.0  5.000500e+03   2886.895680         1.00   \n",
       "CustomerId          10000.0  1.569094e+07  71936.186123  15565701.00   \n",
       "CreditScore         10000.0  6.505288e+02     96.653299       350.00   \n",
       "Age                 10000.0  3.892180e+01     10.487806        18.00   \n",
       "Tenure              10000.0  5.012800e+00      2.892174         0.00   \n",
       "Balance             10000.0  7.648589e+04  62397.405202         0.00   \n",
       "NumOfProducts       10000.0  1.530200e+00      0.581654         1.00   \n",
       "HasCrCard           10000.0  7.055000e-01      0.455840         0.00   \n",
       "IsActiveMember      10000.0  5.151000e-01      0.499797         0.00   \n",
       "EstimatedSalary     10000.0  1.000902e+05  57510.492818        11.58   \n",
       "Exited              10000.0  2.038000e-01      0.402842         0.00   \n",
       "Complain            10000.0  2.044000e-01      0.403283         0.00   \n",
       "Satisfaction Score  10000.0  3.013800e+00      1.405919         1.00   \n",
       "Point Earned        10000.0  6.065151e+02    225.924839       119.00   \n",
       "\n",
       "                            25%           50%           75%          max  \n",
       "RowNumber               2500.75  5.000500e+03  7.500250e+03     10000.00  \n",
       "CustomerId          15628528.25  1.569074e+07  1.575323e+07  15815690.00  \n",
       "CreditScore              584.00  6.520000e+02  7.180000e+02       850.00  \n",
       "Age                       32.00  3.700000e+01  4.400000e+01        92.00  \n",
       "Tenure                     3.00  5.000000e+00  7.000000e+00        10.00  \n",
       "Balance                    0.00  9.719854e+04  1.276442e+05    250898.09  \n",
       "NumOfProducts              1.00  1.000000e+00  2.000000e+00         4.00  \n",
       "HasCrCard                  0.00  1.000000e+00  1.000000e+00         1.00  \n",
       "IsActiveMember             0.00  1.000000e+00  1.000000e+00         1.00  \n",
       "EstimatedSalary        51002.11  1.001939e+05  1.493882e+05    199992.48  \n",
       "Exited                     0.00  0.000000e+00  0.000000e+00         1.00  \n",
       "Complain                   0.00  0.000000e+00  0.000000e+00         1.00  \n",
       "Satisfaction Score         2.00  3.000000e+00  4.000000e+00         5.00  \n",
       "Point Earned             410.00  6.050000e+02  8.010000e+02      1000.00  "
      ]
     },
     "execution_count": 9,
     "metadata": {},
     "output_type": "execute_result"
    }
   ],
   "source": [
    "df.describe().transpose()"
   ]
  },
  {
   "cell_type": "code",
   "execution_count": 10,
   "id": "5bd3a9c1",
   "metadata": {},
   "outputs": [
    {
     "data": {
      "text/plain": [
       "0"
      ]
     },
     "execution_count": 10,
     "metadata": {},
     "output_type": "execute_result"
    }
   ],
   "source": [
    "df.duplicated().sum()"
   ]
  },
  {
   "cell_type": "code",
   "execution_count": 11,
   "id": "88aad420",
   "metadata": {},
   "outputs": [
    {
     "data": {
      "text/plain": [
       "(10000, 18)"
      ]
     },
     "execution_count": 11,
     "metadata": {},
     "output_type": "execute_result"
    }
   ],
   "source": [
    "df.drop_duplicates(inplace = True)\n",
    "df.shape"
   ]
  },
  {
   "cell_type": "code",
   "execution_count": 12,
   "id": "2ed75941",
   "metadata": {},
   "outputs": [],
   "source": [
    "# removes features that do not affect churn\n",
    "df = df.drop(columns=['RowNumber', 'CustomerId', 'Surname'])\n"
   ]
  },
  {
   "cell_type": "code",
   "execution_count": 13,
   "id": "5cd97bfb",
   "metadata": {},
   "outputs": [
    {
     "name": "stdout",
     "output_type": "stream",
     "text": [
      "CreditScore             int64\n",
      "Geography              object\n",
      "Gender                 object\n",
      "Age                     int64\n",
      "Tenure                  int64\n",
      "Balance               float64\n",
      "NumOfProducts           int64\n",
      "HasCrCard               int64\n",
      "IsActiveMember          int64\n",
      "EstimatedSalary       float64\n",
      "Exited                  int64\n",
      "Complain                int64\n",
      "Satisfaction Score      int64\n",
      "Card Type              object\n",
      "Point Earned            int64\n",
      "dtype: object\n"
     ]
    }
   ],
   "source": [
    "print(df.dtypes)"
   ]
  },
  {
   "cell_type": "markdown",
   "id": "8c383a7b",
   "metadata": {},
   "source": [
    "Label Encode: Categorical to numeric"
   ]
  },
  {
   "cell_type": "code",
   "execution_count": 14,
   "id": "3334a176",
   "metadata": {},
   "outputs": [],
   "source": [
    "from sklearn.preprocessing import LabelEncoder"
   ]
  },
  {
   "cell_type": "code",
   "execution_count": 15,
   "id": "34244f0b",
   "metadata": {},
   "outputs": [],
   "source": [
    "le = LabelEncoder()"
   ]
  },
  {
   "cell_type": "code",
   "execution_count": 16,
   "id": "fe1cd213",
   "metadata": {},
   "outputs": [],
   "source": [
    "# binary variable 'Gender'male = 1, femaale = 0\n",
    "df['Gender'] = le.fit_transform(df['Gender'])"
   ]
  },
  {
   "cell_type": "code",
   "execution_count": 17,
   "id": "80b154d3",
   "metadata": {},
   "outputs": [
    {
     "name": "stdout",
     "output_type": "stream",
     "text": [
      "Index(['CreditScore', 'Geography', 'Gender', 'Age', 'Tenure', 'Balance',\n",
      "       'NumOfProducts', 'HasCrCard', 'IsActiveMember', 'EstimatedSalary',\n",
      "       'Exited', 'Complain', 'Satisfaction Score', 'Card Type',\n",
      "       'Point Earned'],\n",
      "      dtype='object')\n"
     ]
    }
   ],
   "source": [
    "print(df.columns)"
   ]
  },
  {
   "cell_type": "code",
   "execution_count": 18,
   "id": "7e5c1b65",
   "metadata": {},
   "outputs": [],
   "source": [
    "# multi class variables 'Geography' and 'Card Type' I will use One-hot-encoder\n",
    "df = pd.get_dummies(df, columns=['Geography', 'Card Type'], drop_first=True)"
   ]
  },
  {
   "cell_type": "code",
   "execution_count": 19,
   "id": "e98e6802",
   "metadata": {},
   "outputs": [
    {
     "name": "stdout",
     "output_type": "stream",
     "text": [
      "Index(['CreditScore', 'Gender', 'Age', 'Tenure', 'Balance', 'NumOfProducts',\n",
      "       'HasCrCard', 'IsActiveMember', 'EstimatedSalary', 'Exited', 'Complain',\n",
      "       'Satisfaction Score', 'Point Earned', 'Geography_Germany',\n",
      "       'Geography_Spain', 'Card Type_GOLD', 'Card Type_PLATINUM',\n",
      "       'Card Type_SILVER'],\n",
      "      dtype='object')\n"
     ]
    }
   ],
   "source": [
    "print(df.columns)"
   ]
  },
  {
   "cell_type": "code",
   "execution_count": 20,
   "id": "a96e7e9f",
   "metadata": {},
   "outputs": [
    {
     "name": "stdout",
     "output_type": "stream",
     "text": [
      "<class 'pandas.core.frame.DataFrame'>\n",
      "Int64Index: 10000 entries, 0 to 9999\n",
      "Data columns (total 18 columns):\n",
      " #   Column              Non-Null Count  Dtype  \n",
      "---  ------              --------------  -----  \n",
      " 0   CreditScore         10000 non-null  int64  \n",
      " 1   Gender              10000 non-null  int32  \n",
      " 2   Age                 10000 non-null  int64  \n",
      " 3   Tenure              10000 non-null  int64  \n",
      " 4   Balance             10000 non-null  float64\n",
      " 5   NumOfProducts       10000 non-null  int64  \n",
      " 6   HasCrCard           10000 non-null  int64  \n",
      " 7   IsActiveMember      10000 non-null  int64  \n",
      " 8   EstimatedSalary     10000 non-null  float64\n",
      " 9   Exited              10000 non-null  int64  \n",
      " 10  Complain            10000 non-null  int64  \n",
      " 11  Satisfaction Score  10000 non-null  int64  \n",
      " 12  Point Earned        10000 non-null  int64  \n",
      " 13  Geography_Germany   10000 non-null  uint8  \n",
      " 14  Geography_Spain     10000 non-null  uint8  \n",
      " 15  Card Type_GOLD      10000 non-null  uint8  \n",
      " 16  Card Type_PLATINUM  10000 non-null  uint8  \n",
      " 17  Card Type_SILVER    10000 non-null  uint8  \n",
      "dtypes: float64(2), int32(1), int64(10), uint8(5)\n",
      "memory usage: 1.1 MB\n",
      "None\n"
     ]
    }
   ],
   "source": [
    "print(df.info())"
   ]
  },
  {
   "cell_type": "markdown",
   "id": "e52a06c6",
   "metadata": {},
   "source": [
    "Handle numerical values: Scale"
   ]
  },
  {
   "cell_type": "code",
   "execution_count": 21,
   "id": "d3ee833f",
   "metadata": {},
   "outputs": [],
   "source": [
    "from sklearn.preprocessing import StandardScaler\n",
    "scaler = StandardScaler()\n",
    "num_cols = ['CreditScore',  'Age', 'Tenure', 'Balance', 'NumOfProducts','EstimatedSalary', 'Point Earned']\n",
    "df[num_cols] = scaler.fit_transform(df[num_cols])"
   ]
  },
  {
   "cell_type": "markdown",
   "id": "d8258b56",
   "metadata": {},
   "source": [
    "Exploratory Data Analysis (EDA)\n",
    "\n",
    "Perform EDA to understand relationships between features and churn 'Exited'"
   ]
  },
  {
   "cell_type": "code",
   "execution_count": 22,
   "id": "c3797f84",
   "metadata": {},
   "outputs": [
    {
     "data": {
      "image/png": "[encoded data removed]",
      "text/plain": [
       "<Figure size 640x480 with 1 Axes>"
      ]
     },
     "metadata": {},
     "output_type": "display_data"
    }
   ],
   "source": [
    "# Target Variable Distribution\n",
    "\n",
    "df['Exited'].value_counts().plot(kind = 'bar')\n",
    "\n",
    "# Add title and labels\n",
    "plt.title('Churn vs. Retained Customers')  \n",
    "plt.xlabel('Customer Status')  \n",
    "plt.ylabel('Count') \n",
    "plt.xticks(ticks=[0, 1], labels=['Retained', 'Churned'], rotation=0)  \n",
    "\n",
    "# Display the plot\n",
    "plt.show()"
   ]
  },
  {
   "cell_type": "code",
   "execution_count": 23,
   "id": "dd89c906",
   "metadata": {},
   "outputs": [
    {
     "data": {
      "text/plain": [
       "<AxesSubplot:>"
      ]
     },
     "execution_count": 23,
     "metadata": {},
     "output_type": "execute_result"
    },
    {
     "data": {
      "image/png": "[encoded data removed]",
      "text/plain": [
       "<Figure size 640x480 with 1 Axes>"
      ]
     },
     "metadata": {},
     "output_type": "display_data"
    }
   ],
   "source": [
    "# Univariate Analysis --> plot histograms for each of the numerical features\n",
    "df['CreditScore'].hist(bins = 20)"
   ]
  },
  {
   "cell_type": "code",
   "execution_count": 24,
   "id": "93fcca13",
   "metadata": {},
   "outputs": [
    {
     "data": {
      "text/plain": [
       "<AxesSubplot:>"
      ]
     },
     "execution_count": 24,
     "metadata": {},
     "output_type": "execute_result"
    },
    {
     "data": {
      "image/png": "[encoded data removed]",
      "text/plain": [
       "<Figure size 640x480 with 1 Axes>"
      ]
     },
     "metadata": {},
     "output_type": "display_data"
    }
   ],
   "source": [
    "df['Age'].hist(bins = 20)"
   ]
  },
  {
   "cell_type": "code",
   "execution_count": 25,
   "id": "14a23631",
   "metadata": {},
   "outputs": [
    {
     "data": {
      "text/plain": [
       "<AxesSubplot:>"
      ]
     },
     "execution_count": 25,
     "metadata": {},
     "output_type": "execute_result"
    },
    {
     "data": {
      "image/png": "[encoded data removed]",
      "text/plain": [
       "<Figure size 640x480 with 1 Axes>"
      ]
     },
     "metadata": {},
     "output_type": "display_data"
    }
   ],
   "source": [
    "df['Tenure'].hist(bins = 20)"
   ]
  },
  {
   "cell_type": "code",
   "execution_count": 26,
   "id": "ec9a9dd5",
   "metadata": {},
   "outputs": [
    {
     "data": {
      "text/plain": [
       "<AxesSubplot:>"
      ]
     },
     "execution_count": 26,
     "metadata": {},
     "output_type": "execute_result"
    },
    {
     "data": {
      "image/png": "[encoded data removed]",
      "text/plain": [
       "<Figure size 640x480 with 1 Axes>"
      ]
     },
     "metadata": {},
     "output_type": "display_data"
    }
   ],
   "source": [
    "df['Balance'].hist(bins = 20)"
   ]
  },
  {
   "cell_type": "code",
   "execution_count": 27,
   "id": "f458e5a8",
   "metadata": {},
   "outputs": [
    {
     "data": {
      "text/plain": [
       "<AxesSubplot:>"
      ]
     },
     "execution_count": 27,
     "metadata": {},
     "output_type": "execute_result"
    },
    {
     "data": {
      "image/png": "[encoded data removed]",
      "text/plain": [
       "<Figure size 640x480 with 1 Axes>"
      ]
     },
     "metadata": {},
     "output_type": "display_data"
    }
   ],
   "source": [
    "df['NumOfProducts'].hist(bins = 20)"
   ]
  },
  {
   "cell_type": "code",
   "execution_count": 28,
   "id": "88c4b8a5",
   "metadata": {},
   "outputs": [
    {
     "data": {
      "text/plain": [
       "<AxesSubplot:>"
      ]
     },
     "execution_count": 28,
     "metadata": {},
     "output_type": "execute_result"
    },
    {
     "data": {
      "image/png": "[encoded data removed]",
      "text/plain": [
       "<Figure size 640x480 with 1 Axes>"
      ]
     },
     "metadata": {},
     "output_type": "display_data"
    }
   ],
   "source": [
    "df['EstimatedSalary'].hist(bins = 20)"
   ]
  },
  {
   "cell_type": "code",
   "execution_count": 29,
   "id": "85239cf3",
   "metadata": {},
   "outputs": [
    {
     "data": {
      "text/plain": [
       "<AxesSubplot:>"
      ]
     },
     "execution_count": 29,
     "metadata": {},
     "output_type": "execute_result"
    },
    {
     "data": {
      "image/png": "[encoded data removed]",
      "text/plain": [
       "<Figure size 640x480 with 1 Axes>"
      ]
     },
     "metadata": {},
     "output_type": "display_data"
    }
   ],
   "source": [
    "df['Point Earned'].hist(bins = 20)"
   ]
  },
  {
   "cell_type": "code",
   "execution_count": 30,
   "id": "8a43d195",
   "metadata": {},
   "outputs": [
    {
     "data": {
      "image/png": "[encoded data removed]",
      "text/plain": [
       "<Figure size 640x480 with 1 Axes>"
      ]
     },
     "metadata": {},
     "output_type": "display_data"
    }
   ],
   "source": [
    "# Plot bar charts for categorical variables:\n",
    "df['Gender'].value_counts().plot(kind='bar')\n",
    "# Add title and labels\n",
    "plt.title('Customer Gender Distribution')  \n",
    "plt.xlabel('Gender')  \n",
    "plt.ylabel('Count') \n",
    "plt.xticks(ticks=[0, 1], labels=['Female', 'Male'], rotation=0)  \n",
    "\n",
    "# Display the plot\n",
    "plt.show()"
   ]
  },
  {
   "cell_type": "code",
   "execution_count": 31,
   "id": "10fce8c1",
   "metadata": {},
   "outputs": [],
   "source": [
    "# Recreate the Geography column for plotting\n",
    "df['Geography'] = df.apply(\n",
    "    lambda row: 'France' if (row['Geography_Germany'] == 0 and row['Geography_Spain'] == 0)\n",
    "    else ('Germany' if row['Geography_Germany'] == 1 else 'Spain'),\n",
    "    axis=1\n",
    ")\n"
   ]
  },
  {
   "cell_type": "code",
   "execution_count": 32,
   "id": "71f90347",
   "metadata": {},
   "outputs": [
    {
     "data": {
      "image/png": "[encoded data removed]",
      "text/plain": [
       "<Figure size 800x600 with 1 Axes>"
      ]
     },
     "metadata": {},
     "output_type": "display_data"
    }
   ],
   "source": [
    "# Calculate churn counts for each geography\n",
    "churn_counts = df.groupby('Geography')['Exited'].sum()\n",
    "total_counts = df['Geography'].value_counts()\n",
    "\n",
    "# Calculate churn rate\n",
    "churn_rate = (churn_counts / total_counts).reset_index()\n",
    "churn_rate.columns = ['Geography', 'Churn Rate']\n",
    "\n",
    "# Plot churn rate by geography\n",
    "plt.figure(figsize=(8, 6))\n",
    "sns.barplot(data=churn_rate, x='Geography', y='Churn Rate', palette='viridis')\n",
    "plt.title('Churn Rate by Geography')\n",
    "plt.xlabel('Geographical Location')\n",
    "plt.ylabel('Churn Rate')\n",
    "plt.show()\n"
   ]
  },
  {
   "cell_type": "code",
   "execution_count": 33,
   "id": "230fa222",
   "metadata": {},
   "outputs": [
    {
     "name": "stdout",
     "output_type": "stream",
     "text": [
      "1    10000\n",
      "dtype: int64\n"
     ]
    }
   ],
   "source": [
    "# Recreate 'Geography_France' as the complementary column\n",
    "df['Geography_France'] = 1 - (df['Geography_Germany'] + df['Geography_Spain'])\n",
    "\n",
    "# Now calculate the sum of the geography indicators\n",
    "print((df['Geography_France'] + df['Geography_Germany'] + df['Geography_Spain']).value_counts())\n"
   ]
  },
  {
   "cell_type": "code",
   "execution_count": 34,
   "id": "ba6b4b0d",
   "metadata": {},
   "outputs": [
    {
     "name": "stdout",
     "output_type": "stream",
     "text": [
      "Geography\n",
      "France     0.161747\n",
      "Germany    0.324432\n",
      "Spain      0.166734\n",
      "Name: Exited, dtype: float64\n"
     ]
    }
   ],
   "source": [
    "churn_by_geo = df.groupby('Geography')['Exited'].mean()\n",
    "print(churn_by_geo)\n"
   ]
  },
  {
   "cell_type": "code",
   "execution_count": 35,
   "id": "189b55ad",
   "metadata": {},
   "outputs": [
    {
     "name": "stdout",
     "output_type": "stream",
     "text": [
      "France     5014\n",
      "Germany    2509\n",
      "Spain      2477\n",
      "Name: Geography, dtype: int64\n"
     ]
    }
   ],
   "source": [
    "print(df['Geography'].value_counts())\n"
   ]
  },
  {
   "cell_type": "code",
   "execution_count": 36,
   "id": "44d557d6",
   "metadata": {},
   "outputs": [
    {
     "data": {
      "text/plain": [
       "Index(['CreditScore', 'Gender', 'Age', 'Tenure', 'Balance', 'NumOfProducts',\n",
       "       'HasCrCard', 'IsActiveMember', 'EstimatedSalary', 'Exited', 'Complain',\n",
       "       'Satisfaction Score', 'Point Earned', 'Geography_Germany',\n",
       "       'Geography_Spain', 'Card Type_GOLD', 'Card Type_PLATINUM',\n",
       "       'Card Type_SILVER', 'Geography', 'Geography_France'],\n",
       "      dtype='object')"
      ]
     },
     "execution_count": 36,
     "metadata": {},
     "output_type": "execute_result"
    }
   ],
   "source": [
    "df.columns"
   ]
  },
  {
   "cell_type": "code",
   "execution_count": 37,
   "id": "6ce7fdad",
   "metadata": {},
   "outputs": [
    {
     "name": "stderr",
     "output_type": "stream",
     "text": [
      "C:\\Users\\zzyzz\\AppData\\Local\\Temp\\ipykernel_15048\\562575834.py:11: FutureWarning: The frame.append method is deprecated and will be removed from pandas in a future version. Use pandas.concat instead.\n",
      "  churn_by_crdtype = churn_by_crdtype.append({'Card Type': card_type_name, 'Churn Rate': churn_rate}, ignore_index=True)\n",
      "C:\\Users\\zzyzz\\AppData\\Local\\Temp\\ipykernel_15048\\562575834.py:11: FutureWarning: The frame.append method is deprecated and will be removed from pandas in a future version. Use pandas.concat instead.\n",
      "  churn_by_crdtype = churn_by_crdtype.append({'Card Type': card_type_name, 'Churn Rate': churn_rate}, ignore_index=True)\n",
      "C:\\Users\\zzyzz\\AppData\\Local\\Temp\\ipykernel_15048\\562575834.py:11: FutureWarning: The frame.append method is deprecated and will be removed from pandas in a future version. Use pandas.concat instead.\n",
      "  churn_by_crdtype = churn_by_crdtype.append({'Card Type': card_type_name, 'Churn Rate': churn_rate}, ignore_index=True)\n"
     ]
    },
    {
     "data": {
      "image/png": "[encoded data removed]",
      "text/plain": [
       "<Figure size 800x600 with 1 Axes>"
      ]
     },
     "metadata": {},
     "output_type": "display_data"
    }
   ],
   "source": [
    "# Define the card type columns\n",
    "card_type_columns = ['Card Type_GOLD', 'Card Type_PLATINUM', 'Card Type_SILVER']\n",
    "\n",
    "# Create a DataFrame to store results\n",
    "churn_by_crdtype = pd.DataFrame()\n",
    "\n",
    "# Calculate churn rate for each card type\n",
    "for card_type in card_type_columns:\n",
    "    card_type_name = card_type.split('_')[-1]  # Extract the card type name (e.g., GOLD, PLATINUM, SILVER)\n",
    "    churn_rate = df[df[card_type] == 1]['Exited'].mean()  # Calculate churn rate where this card type is 1\n",
    "    churn_by_crdtype = churn_by_crdtype.append({'Card Type': card_type_name, 'Churn Rate': churn_rate}, ignore_index=True)\n",
    "\n",
    "# Plot churn rate by card type\n",
    "plt.figure(figsize=(8, 6))\n",
    "sns.barplot(data=churn_by_crdtype, x='Card Type', y='Churn Rate', palette='viridis')\n",
    "plt.title('Churn Rate by Card Type')\n",
    "plt.xlabel('Card Type')\n",
    "plt.ylabel('Churn Rate')\n",
    "plt.show()\n",
    "\n"
   ]
  },
  {
   "cell_type": "code",
   "execution_count": 38,
   "id": "b4f44841",
   "metadata": {},
   "outputs": [
    {
     "name": "stdout",
     "output_type": "stream",
     "text": [
      "CardType\n",
      "GOLD        0.205231\n",
      "PLATINUM    0.203607\n",
      "SILVER      0.201122\n",
      "Name: Exited, dtype: float64\n"
     ]
    }
   ],
   "source": [
    "# Create a 'CardType' column from the binary columns\n",
    "df['CardType'] = df[['Card Type_GOLD', 'Card Type_PLATINUM', 'Card Type_SILVER']].idxmax(axis=1)\n",
    "\n",
    "# Replace column names with card type names (e.g., 'Card Type_GOLD' -> 'GOLD')\n",
    "df['CardType'] = df['CardType'].str.split('_').str[-1]\n",
    "\n",
    "# Group by the new 'CardType' column and calculate the churn rate\n",
    "churn_by_crdtype = df.groupby('CardType')['Exited'].mean()\n",
    "\n",
    "print(churn_by_crdtype)\n",
    "\n"
   ]
  },
  {
   "cell_type": "code",
   "execution_count": 39,
   "id": "1f7e57e7",
   "metadata": {},
   "outputs": [
    {
     "name": "stdout",
     "output_type": "stream",
     "text": [
      "GOLD        5009\n",
      "SILVER      2496\n",
      "PLATINUM    2495\n",
      "Name: CardType, dtype: int64\n"
     ]
    }
   ],
   "source": [
    "print(df['CardType'].value_counts())"
   ]
  },
  {
   "cell_type": "markdown",
   "id": "a7df000e",
   "metadata": {},
   "source": [
    "### Box Plot: Represents the interquartile range (IQR), which contains the middle 50% of the data.\n",
    " - Represents whether a customer churned (1) or stayed (0).\n",
    " - Line in the Box: Represents the median balance for each group.\n",
    "\n",
    "Result: Plot shows that churned customers tend to have higher balances, it could indicate dissatisfaction among high-value customers."
   ]
  },
  {
   "cell_type": "code",
   "execution_count": 40,
   "id": "29e389a4",
   "metadata": {},
   "outputs": [
    {
     "data": {
      "text/plain": [
       "<AxesSubplot:xlabel='Exited', ylabel='Balance'>"
      ]
     },
     "execution_count": 40,
     "metadata": {},
     "output_type": "execute_result"
    },
    {
     "data": {
      "image/png": "[encoded data removed]",
      "text/plain": [
       "<Figure size 640x480 with 1 Axes>"
      ]
     },
     "metadata": {},
     "output_type": "display_data"
    }
   ],
   "source": [
    "# [1 = churned ; 0 = retained]\n",
    "sns.boxplot(x='Exited', y='Balance', data=df)\n"
   ]
  },
  {
   "cell_type": "code",
   "execution_count": 41,
   "id": "7e2d8143",
   "metadata": {},
   "outputs": [
    {
     "data": {
      "text/plain": [
       "<AxesSubplot:xlabel='Exited', ylabel='Satisfaction Score'>"
      ]
     },
     "execution_count": 41,
     "metadata": {},
     "output_type": "execute_result"
    },
    {
     "data": {
      "image/png": "[encoded data removed]",
      "text/plain": [
       "<Figure size 640x480 with 1 Axes>"
      ]
     },
     "metadata": {},
     "output_type": "display_data"
    }
   ],
   "source": [
    "sns.boxplot(x='Exited', y='Satisfaction Score', data=df)"
   ]
  },
  {
   "cell_type": "code",
   "execution_count": 42,
   "id": "56766cd8",
   "metadata": {},
   "outputs": [
    {
     "data": {
      "text/plain": [
       "<AxesSubplot:xlabel='Exited', ylabel='Age'>"
      ]
     },
     "execution_count": 42,
     "metadata": {},
     "output_type": "execute_result"
    },
    {
     "data": {
      "image/png": "[encoded data removed]",
      "text/plain": [
       "<Figure size 640x480 with 1 Axes>"
      ]
     },
     "metadata": {},
     "output_type": "display_data"
    }
   ],
   "source": [
    "sns.boxplot(x='Exited', y='Age', data=df)"
   ]
  },
  {
   "cell_type": "code",
   "execution_count": 43,
   "id": "14cc9efd",
   "metadata": {},
   "outputs": [
    {
     "data": {
      "text/plain": [
       "<AxesSubplot:xlabel='Exited', ylabel='Tenure'>"
      ]
     },
     "execution_count": 43,
     "metadata": {},
     "output_type": "execute_result"
    },
    {
     "data": {
      "image/png": "[encoded data removed]",
      "text/plain": [
       "<Figure size 640x480 with 1 Axes>"
      ]
     },
     "metadata": {},
     "output_type": "display_data"
    }
   ],
   "source": [
    "sns.boxplot(x='Exited', y='Tenure', data=df)"
   ]
  },
  {
   "cell_type": "code",
   "execution_count": 44,
   "id": "0dc68ac6",
   "metadata": {},
   "outputs": [
    {
     "data": {
      "text/plain": [
       "<AxesSubplot:xlabel='Exited', ylabel='EstimatedSalary'>"
      ]
     },
     "execution_count": 44,
     "metadata": {},
     "output_type": "execute_result"
    },
    {
     "data": {
      "image/png": "[encoded data removed]",
      "text/plain": [
       "<Figure size 640x480 with 1 Axes>"
      ]
     },
     "metadata": {},
     "output_type": "display_data"
    }
   ],
   "source": [
    "sns.boxplot(x='Exited', y='EstimatedSalary', data=df)"
   ]
  },
  {
   "cell_type": "code",
   "execution_count": 45,
   "id": "44868962",
   "metadata": {},
   "outputs": [
    {
     "data": {
      "text/plain": [
       "<AxesSubplot:xlabel='Exited', ylabel='NumOfProducts'>"
      ]
     },
     "execution_count": 45,
     "metadata": {},
     "output_type": "execute_result"
    },
    {
     "data": {
      "image/png": "[encoded data removed]",
      "text/plain": [
       "<Figure size 640x480 with 1 Axes>"
      ]
     },
     "metadata": {},
     "output_type": "display_data"
    }
   ],
   "source": [
    "sns.boxplot(x='Exited', y='NumOfProducts', data=df)"
   ]
  },
  {
   "cell_type": "markdown",
   "id": "ec64e5b0",
   "metadata": {},
   "source": [
    "### Churn rate across categories"
   ]
  },
  {
   "cell_type": "code",
   "execution_count": 46,
   "id": "dabe4dce",
   "metadata": {},
   "outputs": [
    {
     "data": {
      "text/plain": [
       "Geography_Germany\n",
       "0    0.163396\n",
       "1    0.324432\n",
       "Name: Exited, dtype: float64"
      ]
     },
     "execution_count": 46,
     "metadata": {},
     "output_type": "execute_result"
    }
   ],
   "source": [
    "# 0 -> non German cutomers that churned\n",
    "# 1 -> German customers that churned\n",
    "df.groupby('Geography_Germany')['Exited'].mean()"
   ]
  },
  {
   "cell_type": "code",
   "execution_count": 47,
   "id": "c480a396",
   "metadata": {},
   "outputs": [
    {
     "data": {
      "text/plain": [
       "Geography_Spain\n",
       "0    0.216004\n",
       "1    0.166734\n",
       "Name: Exited, dtype: float64"
      ]
     },
     "execution_count": 47,
     "metadata": {},
     "output_type": "execute_result"
    }
   ],
   "source": [
    "# 0 -> non Spain cutomers that churned\n",
    "# 1 -> Spain customers that churned\n",
    "df.groupby('Geography_Spain')['Exited'].mean()"
   ]
  },
  {
   "cell_type": "code",
   "execution_count": 48,
   "id": "50bd3c79",
   "metadata": {},
   "outputs": [
    {
     "data": {
      "text/plain": [
       "Card Type_GOLD\n",
       "0    0.207522\n",
       "1    0.192646\n",
       "Name: Exited, dtype: float64"
      ]
     },
     "execution_count": 48,
     "metadata": {},
     "output_type": "execute_result"
    }
   ],
   "source": [
    "# 0 -> non GOLD cutomers that churned\n",
    "# 1 -> GOLD customers that churned\n",
    "df.groupby('Card Type_GOLD')['Exited'].mean()"
   ]
  },
  {
   "cell_type": "code",
   "execution_count": 49,
   "id": "04f524ab",
   "metadata": {},
   "outputs": [
    {
     "data": {
      "text/plain": [
       "Card Type_SILVER\n",
       "0    0.204691\n",
       "1    0.201122\n",
       "Name: Exited, dtype: float64"
      ]
     },
     "execution_count": 49,
     "metadata": {},
     "output_type": "execute_result"
    }
   ],
   "source": [
    "# 0 -> non SILVER cutomers that churned\n",
    "# 1 -> SILVER customers that churned\n",
    "df.groupby('Card Type_SILVER')['Exited'].mean()"
   ]
  },
  {
   "cell_type": "code",
   "execution_count": 50,
   "id": "a1dd3372",
   "metadata": {},
   "outputs": [
    {
     "data": {
      "text/plain": [
       "Card Type_PLATINUM\n",
       "0    0.203864\n",
       "1    0.203607\n",
       "Name: Exited, dtype: float64"
      ]
     },
     "execution_count": 50,
     "metadata": {},
     "output_type": "execute_result"
    }
   ],
   "source": [
    "# 0 -> non PLATINUM cutomers that churned\n",
    "# 1 -> PLATINUM customers that churned\n",
    "df.groupby('Card Type_PLATINUM')['Exited'].mean()"
   ]
  },
  {
   "cell_type": "code",
   "execution_count": 51,
   "id": "24cc3818",
   "metadata": {},
   "outputs": [
    {
     "data": {
      "text/html": [
       "<div>\n",
       "<style scoped>\n",
       "    .dataframe tbody tr th:only-of-type {\n",
       "        vertical-align: middle;\n",
       "    }\n",
       "\n",
       "    .dataframe tbody tr th {\n",
       "        vertical-align: top;\n",
       "    }\n",
       "\n",
       "    .dataframe thead th {\n",
       "        text-align: right;\n",
       "    }\n",
       "</style>\n",
       "<table border=\"1\" class=\"dataframe\">\n",
       "  <thead>\n",
       "    <tr style=\"text-align: right;\">\n",
       "      <th></th>\n",
       "      <th>CreditScore</th>\n",
       "      <th>Gender</th>\n",
       "      <th>Age</th>\n",
       "      <th>Tenure</th>\n",
       "      <th>Balance</th>\n",
       "      <th>NumOfProducts</th>\n",
       "      <th>HasCrCard</th>\n",
       "      <th>IsActiveMember</th>\n",
       "      <th>EstimatedSalary</th>\n",
       "      <th>Exited</th>\n",
       "      <th>Complain</th>\n",
       "      <th>Satisfaction Score</th>\n",
       "      <th>Point Earned</th>\n",
       "      <th>Geography_Germany</th>\n",
       "      <th>Geography_Spain</th>\n",
       "      <th>Card Type_GOLD</th>\n",
       "      <th>Card Type_PLATINUM</th>\n",
       "      <th>Card Type_SILVER</th>\n",
       "      <th>Geography_France</th>\n",
       "    </tr>\n",
       "  </thead>\n",
       "  <tbody>\n",
       "    <tr>\n",
       "      <th>CreditScore</th>\n",
       "      <td>1.000000</td>\n",
       "      <td>-0.002857</td>\n",
       "      <td>-0.003965</td>\n",
       "      <td>0.000842</td>\n",
       "      <td>0.006268</td>\n",
       "      <td>0.012238</td>\n",
       "      <td>-0.005458</td>\n",
       "      <td>0.025651</td>\n",
       "      <td>-0.001384</td>\n",
       "      <td>-0.026771</td>\n",
       "      <td>-0.027048</td>\n",
       "      <td>-0.012599</td>\n",
       "      <td>0.000077</td>\n",
       "      <td>0.005538</td>\n",
       "      <td>0.004780</td>\n",
       "      <td>0.010840</td>\n",
       "      <td>-0.013563</td>\n",
       "      <td>-0.000550</td>\n",
       "      <td>-0.008928</td>\n",
       "    </tr>\n",
       "    <tr>\n",
       "      <th>Gender</th>\n",
       "      <td>-0.002857</td>\n",
       "      <td>1.000000</td>\n",
       "      <td>-0.027544</td>\n",
       "      <td>0.014733</td>\n",
       "      <td>0.012087</td>\n",
       "      <td>-0.021859</td>\n",
       "      <td>0.005766</td>\n",
       "      <td>0.022544</td>\n",
       "      <td>-0.008112</td>\n",
       "      <td>-0.106267</td>\n",
       "      <td>-0.106287</td>\n",
       "      <td>0.000242</td>\n",
       "      <td>-0.013225</td>\n",
       "      <td>-0.024628</td>\n",
       "      <td>0.016889</td>\n",
       "      <td>0.034619</td>\n",
       "      <td>-0.013238</td>\n",
       "      <td>-0.010241</td>\n",
       "      <td>0.006772</td>\n",
       "    </tr>\n",
       "    <tr>\n",
       "      <th>Age</th>\n",
       "      <td>-0.003965</td>\n",
       "      <td>-0.027544</td>\n",
       "      <td>1.000000</td>\n",
       "      <td>-0.009997</td>\n",
       "      <td>0.028308</td>\n",
       "      <td>-0.030680</td>\n",
       "      <td>-0.011721</td>\n",
       "      <td>0.085472</td>\n",
       "      <td>-0.007201</td>\n",
       "      <td>0.285296</td>\n",
       "      <td>0.283530</td>\n",
       "      <td>-0.000876</td>\n",
       "      <td>0.002222</td>\n",
       "      <td>0.046897</td>\n",
       "      <td>-0.001685</td>\n",
       "      <td>0.000917</td>\n",
       "      <td>0.004740</td>\n",
       "      <td>-0.009492</td>\n",
       "      <td>-0.039208</td>\n",
       "    </tr>\n",
       "    <tr>\n",
       "      <th>Tenure</th>\n",
       "      <td>0.000842</td>\n",
       "      <td>0.014733</td>\n",
       "      <td>-0.009997</td>\n",
       "      <td>1.000000</td>\n",
       "      <td>-0.012254</td>\n",
       "      <td>0.013444</td>\n",
       "      <td>0.022583</td>\n",
       "      <td>-0.028362</td>\n",
       "      <td>0.007784</td>\n",
       "      <td>-0.013656</td>\n",
       "      <td>-0.013047</td>\n",
       "      <td>0.008663</td>\n",
       "      <td>-0.010196</td>\n",
       "      <td>-0.000567</td>\n",
       "      <td>0.003868</td>\n",
       "      <td>0.012292</td>\n",
       "      <td>-0.018773</td>\n",
       "      <td>0.007195</td>\n",
       "      <td>-0.002848</td>\n",
       "    </tr>\n",
       "    <tr>\n",
       "      <th>Balance</th>\n",
       "      <td>0.006268</td>\n",
       "      <td>0.012087</td>\n",
       "      <td>0.028308</td>\n",
       "      <td>-0.012254</td>\n",
       "      <td>1.000000</td>\n",
       "      <td>-0.304180</td>\n",
       "      <td>-0.014858</td>\n",
       "      <td>-0.010084</td>\n",
       "      <td>0.012797</td>\n",
       "      <td>0.118577</td>\n",
       "      <td>0.119124</td>\n",
       "      <td>-0.002588</td>\n",
       "      <td>0.014608</td>\n",
       "      <td>0.401110</td>\n",
       "      <td>-0.134892</td>\n",
       "      <td>0.001939</td>\n",
       "      <td>-0.007330</td>\n",
       "      <td>-0.019068</td>\n",
       "      <td>-0.231329</td>\n",
       "    </tr>\n",
       "    <tr>\n",
       "      <th>NumOfProducts</th>\n",
       "      <td>0.012238</td>\n",
       "      <td>-0.021859</td>\n",
       "      <td>-0.030680</td>\n",
       "      <td>0.013444</td>\n",
       "      <td>-0.304180</td>\n",
       "      <td>1.000000</td>\n",
       "      <td>0.003183</td>\n",
       "      <td>0.009612</td>\n",
       "      <td>0.014204</td>\n",
       "      <td>-0.047611</td>\n",
       "      <td>-0.046357</td>\n",
       "      <td>-0.011394</td>\n",
       "      <td>-0.015330</td>\n",
       "      <td>-0.010419</td>\n",
       "      <td>0.009039</td>\n",
       "      <td>-0.008558</td>\n",
       "      <td>0.020721</td>\n",
       "      <td>0.006603</td>\n",
       "      <td>0.001230</td>\n",
       "    </tr>\n",
       "    <tr>\n",
       "      <th>HasCrCard</th>\n",
       "      <td>-0.005458</td>\n",
       "      <td>0.005766</td>\n",
       "      <td>-0.011721</td>\n",
       "      <td>0.022583</td>\n",
       "      <td>-0.014858</td>\n",
       "      <td>0.003183</td>\n",
       "      <td>1.000000</td>\n",
       "      <td>-0.011866</td>\n",
       "      <td>-0.009933</td>\n",
       "      <td>-0.006976</td>\n",
       "      <td>-0.007095</td>\n",
       "      <td>-0.000212</td>\n",
       "      <td>-0.011041</td>\n",
       "      <td>0.010577</td>\n",
       "      <td>-0.013480</td>\n",
       "      <td>-0.013251</td>\n",
       "      <td>0.001915</td>\n",
       "      <td>0.008147</td>\n",
       "      <td>0.002467</td>\n",
       "    </tr>\n",
       "    <tr>\n",
       "      <th>IsActiveMember</th>\n",
       "      <td>0.025651</td>\n",
       "      <td>0.022544</td>\n",
       "      <td>0.085472</td>\n",
       "      <td>-0.028362</td>\n",
       "      <td>-0.010084</td>\n",
       "      <td>0.009612</td>\n",
       "      <td>-0.011866</td>\n",
       "      <td>1.000000</td>\n",
       "      <td>-0.011421</td>\n",
       "      <td>-0.156356</td>\n",
       "      <td>-0.154741</td>\n",
       "      <td>0.010236</td>\n",
       "      <td>-0.004983</td>\n",
       "      <td>-0.020486</td>\n",
       "      <td>0.016732</td>\n",
       "      <td>0.011189</td>\n",
       "      <td>0.004081</td>\n",
       "      <td>0.007541</td>\n",
       "      <td>0.003317</td>\n",
       "    </tr>\n",
       "    <tr>\n",
       "      <th>EstimatedSalary</th>\n",
       "      <td>-0.001384</td>\n",
       "      <td>-0.008112</td>\n",
       "      <td>-0.007201</td>\n",
       "      <td>0.007784</td>\n",
       "      <td>0.012797</td>\n",
       "      <td>0.014204</td>\n",
       "      <td>-0.009933</td>\n",
       "      <td>-0.011421</td>\n",
       "      <td>1.000000</td>\n",
       "      <td>0.012490</td>\n",
       "      <td>0.012494</td>\n",
       "      <td>-0.013747</td>\n",
       "      <td>-0.001515</td>\n",
       "      <td>0.010297</td>\n",
       "      <td>-0.006482</td>\n",
       "      <td>0.004628</td>\n",
       "      <td>0.001076</td>\n",
       "      <td>0.010052</td>\n",
       "      <td>-0.003332</td>\n",
       "    </tr>\n",
       "    <tr>\n",
       "      <th>Exited</th>\n",
       "      <td>-0.026771</td>\n",
       "      <td>-0.106267</td>\n",
       "      <td>0.285296</td>\n",
       "      <td>-0.013656</td>\n",
       "      <td>0.118577</td>\n",
       "      <td>-0.047611</td>\n",
       "      <td>-0.006976</td>\n",
       "      <td>-0.156356</td>\n",
       "      <td>0.012490</td>\n",
       "      <td>1.000000</td>\n",
       "      <td>0.995693</td>\n",
       "      <td>-0.005849</td>\n",
       "      <td>-0.004628</td>\n",
       "      <td>0.173313</td>\n",
       "      <td>-0.052800</td>\n",
       "      <td>-0.015995</td>\n",
       "      <td>-0.000276</td>\n",
       "      <td>-0.003834</td>\n",
       "      <td>-0.104688</td>\n",
       "    </tr>\n",
       "    <tr>\n",
       "      <th>Complain</th>\n",
       "      <td>-0.027048</td>\n",
       "      <td>-0.106287</td>\n",
       "      <td>0.283530</td>\n",
       "      <td>-0.013047</td>\n",
       "      <td>0.119124</td>\n",
       "      <td>-0.046357</td>\n",
       "      <td>-0.007095</td>\n",
       "      <td>-0.154741</td>\n",
       "      <td>0.012494</td>\n",
       "      <td>0.995693</td>\n",
       "      <td>1.000000</td>\n",
       "      <td>-0.004799</td>\n",
       "      <td>-0.002893</td>\n",
       "      <td>0.175122</td>\n",
       "      <td>-0.053596</td>\n",
       "      <td>-0.015692</td>\n",
       "      <td>0.000586</td>\n",
       "      <td>-0.004688</td>\n",
       "      <td>-0.105570</td>\n",
       "    </tr>\n",
       "    <tr>\n",
       "      <th>Satisfaction Score</th>\n",
       "      <td>-0.012599</td>\n",
       "      <td>0.000242</td>\n",
       "      <td>-0.000876</td>\n",
       "      <td>0.008663</td>\n",
       "      <td>-0.002588</td>\n",
       "      <td>-0.011394</td>\n",
       "      <td>-0.000212</td>\n",
       "      <td>0.010236</td>\n",
       "      <td>-0.013747</td>\n",
       "      <td>-0.005849</td>\n",
       "      <td>-0.004799</td>\n",
       "      <td>1.000000</td>\n",
       "      <td>-0.014400</td>\n",
       "      <td>-0.003220</td>\n",
       "      <td>-0.000030</td>\n",
       "      <td>0.012559</td>\n",
       "      <td>-0.001550</td>\n",
       "      <td>-0.002703</td>\n",
       "      <td>0.002818</td>\n",
       "    </tr>\n",
       "    <tr>\n",
       "      <th>Point Earned</th>\n",
       "      <td>0.000077</td>\n",
       "      <td>-0.013225</td>\n",
       "      <td>0.002222</td>\n",
       "      <td>-0.010196</td>\n",
       "      <td>0.014608</td>\n",
       "      <td>-0.015330</td>\n",
       "      <td>-0.011041</td>\n",
       "      <td>-0.004983</td>\n",
       "      <td>-0.001515</td>\n",
       "      <td>-0.004628</td>\n",
       "      <td>-0.002893</td>\n",
       "      <td>-0.014400</td>\n",
       "      <td>1.000000</td>\n",
       "      <td>0.009479</td>\n",
       "      <td>-0.012886</td>\n",
       "      <td>0.001843</td>\n",
       "      <td>0.005933</td>\n",
       "      <td>-0.006414</td>\n",
       "      <td>0.002907</td>\n",
       "    </tr>\n",
       "    <tr>\n",
       "      <th>Geography_Germany</th>\n",
       "      <td>0.005538</td>\n",
       "      <td>-0.024628</td>\n",
       "      <td>0.046897</td>\n",
       "      <td>-0.000567</td>\n",
       "      <td>0.401110</td>\n",
       "      <td>-0.010419</td>\n",
       "      <td>0.010577</td>\n",
       "      <td>-0.020486</td>\n",
       "      <td>0.010297</td>\n",
       "      <td>0.173313</td>\n",
       "      <td>0.175122</td>\n",
       "      <td>-0.003220</td>\n",
       "      <td>0.009479</td>\n",
       "      <td>1.000000</td>\n",
       "      <td>-0.332084</td>\n",
       "      <td>0.013446</td>\n",
       "      <td>-0.009593</td>\n",
       "      <td>-0.013989</td>\n",
       "      <td>-0.580359</td>\n",
       "    </tr>\n",
       "    <tr>\n",
       "      <th>Geography_Spain</th>\n",
       "      <td>0.004780</td>\n",
       "      <td>0.016889</td>\n",
       "      <td>-0.001685</td>\n",
       "      <td>0.003868</td>\n",
       "      <td>-0.134892</td>\n",
       "      <td>0.009039</td>\n",
       "      <td>-0.013480</td>\n",
       "      <td>0.016732</td>\n",
       "      <td>-0.006482</td>\n",
       "      <td>-0.052800</td>\n",
       "      <td>-0.053596</td>\n",
       "      <td>-0.000030</td>\n",
       "      <td>-0.012886</td>\n",
       "      <td>-0.332084</td>\n",
       "      <td>1.000000</td>\n",
       "      <td>-0.003073</td>\n",
       "      <td>0.002671</td>\n",
       "      <td>-0.003886</td>\n",
       "      <td>-0.575418</td>\n",
       "    </tr>\n",
       "    <tr>\n",
       "      <th>Card Type_GOLD</th>\n",
       "      <td>0.010840</td>\n",
       "      <td>0.034619</td>\n",
       "      <td>0.000917</td>\n",
       "      <td>0.012292</td>\n",
       "      <td>0.001939</td>\n",
       "      <td>-0.008558</td>\n",
       "      <td>-0.013251</td>\n",
       "      <td>0.011189</td>\n",
       "      <td>0.004628</td>\n",
       "      <td>-0.015995</td>\n",
       "      <td>-0.015692</td>\n",
       "      <td>0.012559</td>\n",
       "      <td>0.001843</td>\n",
       "      <td>0.013446</td>\n",
       "      <td>-0.003073</td>\n",
       "      <td>1.000000</td>\n",
       "      <td>-0.333066</td>\n",
       "      <td>-0.333155</td>\n",
       "      <td>-0.009006</td>\n",
       "    </tr>\n",
       "    <tr>\n",
       "      <th>Card Type_PLATINUM</th>\n",
       "      <td>-0.013563</td>\n",
       "      <td>-0.013238</td>\n",
       "      <td>0.004740</td>\n",
       "      <td>-0.018773</td>\n",
       "      <td>-0.007330</td>\n",
       "      <td>0.020721</td>\n",
       "      <td>0.001915</td>\n",
       "      <td>0.004081</td>\n",
       "      <td>0.001076</td>\n",
       "      <td>-0.000276</td>\n",
       "      <td>0.000586</td>\n",
       "      <td>-0.001550</td>\n",
       "      <td>0.005933</td>\n",
       "      <td>-0.009593</td>\n",
       "      <td>0.002671</td>\n",
       "      <td>-0.333066</td>\n",
       "      <td>1.000000</td>\n",
       "      <td>-0.332534</td>\n",
       "      <td>0.006012</td>\n",
       "    </tr>\n",
       "    <tr>\n",
       "      <th>Card Type_SILVER</th>\n",
       "      <td>-0.000550</td>\n",
       "      <td>-0.010241</td>\n",
       "      <td>-0.009492</td>\n",
       "      <td>0.007195</td>\n",
       "      <td>-0.019068</td>\n",
       "      <td>0.006603</td>\n",
       "      <td>0.008147</td>\n",
       "      <td>0.007541</td>\n",
       "      <td>0.010052</td>\n",
       "      <td>-0.003834</td>\n",
       "      <td>-0.004688</td>\n",
       "      <td>-0.002703</td>\n",
       "      <td>-0.006414</td>\n",
       "      <td>-0.013989</td>\n",
       "      <td>-0.003886</td>\n",
       "      <td>-0.333155</td>\n",
       "      <td>-0.332534</td>\n",
       "      <td>1.000000</td>\n",
       "      <td>0.015484</td>\n",
       "    </tr>\n",
       "    <tr>\n",
       "      <th>Geography_France</th>\n",
       "      <td>-0.008928</td>\n",
       "      <td>0.006772</td>\n",
       "      <td>-0.039208</td>\n",
       "      <td>-0.002848</td>\n",
       "      <td>-0.231329</td>\n",
       "      <td>0.001230</td>\n",
       "      <td>0.002467</td>\n",
       "      <td>0.003317</td>\n",
       "      <td>-0.003332</td>\n",
       "      <td>-0.104688</td>\n",
       "      <td>-0.105570</td>\n",
       "      <td>0.002818</td>\n",
       "      <td>0.002907</td>\n",
       "      <td>-0.580359</td>\n",
       "      <td>-0.575418</td>\n",
       "      <td>-0.009006</td>\n",
       "      <td>0.006012</td>\n",
       "      <td>0.015484</td>\n",
       "      <td>1.000000</td>\n",
       "    </tr>\n",
       "  </tbody>\n",
       "</table>\n",
       "</div>"
      ],
      "text/plain": [
       "                    CreditScore    Gender       Age    Tenure   Balance  \\\n",
       "CreditScore            1.000000 -0.002857 -0.003965  0.000842  0.006268   \n",
       "Gender                -0.002857  1.000000 -0.027544  0.014733  0.012087   \n",
       "Age                   -0.003965 -0.027544  1.000000 -0.009997  0.028308   \n",
       "Tenure                 0.000842  0.014733 -0.009997  1.000000 -0.012254   \n",
       "Balance                0.006268  0.012087  0.028308 -0.012254  1.000000   \n",
       "NumOfProducts          0.012238 -0.021859 -0.030680  0.013444 -0.304180   \n",
       "HasCrCard             -0.005458  0.005766 -0.011721  0.022583 -0.014858   \n",
       "IsActiveMember         0.025651  0.022544  0.085472 -0.028362 -0.010084   \n",
       "EstimatedSalary       -0.001384 -0.008112 -0.007201  0.007784  0.012797   \n",
       "Exited                -0.026771 -0.106267  0.285296 -0.013656  0.118577   \n",
       "Complain              -0.027048 -0.106287  0.283530 -0.013047  0.119124   \n",
       "Satisfaction Score    -0.012599  0.000242 -0.000876  0.008663 -0.002588   \n",
       "Point Earned           0.000077 -0.013225  0.002222 -0.010196  0.014608   \n",
       "Geography_Germany      0.005538 -0.024628  0.046897 -0.000567  0.401110   \n",
       "Geography_Spain        0.004780  0.016889 -0.001685  0.003868 -0.134892   \n",
       "Card Type_GOLD         0.010840  0.034619  0.000917  0.012292  0.001939   \n",
       "Card Type_PLATINUM    -0.013563 -0.013238  0.004740 -0.018773 -0.007330   \n",
       "Card Type_SILVER      -0.000550 -0.010241 -0.009492  0.007195 -0.019068   \n",
       "Geography_France      -0.008928  0.006772 -0.039208 -0.002848 -0.231329   \n",
       "\n",
       "                    NumOfProducts  HasCrCard  IsActiveMember  EstimatedSalary  \\\n",
       "CreditScore              0.012238  -0.005458        0.025651        -0.001384   \n",
       "Gender                  -0.021859   0.005766        0.022544        -0.008112   \n",
       "Age                     -0.030680  -0.011721        0.085472        -0.007201   \n",
       "Tenure                   0.013444   0.022583       -0.028362         0.007784   \n",
       "Balance                 -0.304180  -0.014858       -0.010084         0.012797   \n",
       "NumOfProducts            1.000000   0.003183        0.009612         0.014204   \n",
       "HasCrCard                0.003183   1.000000       -0.011866        -0.009933   \n",
       "IsActiveMember           0.009612  -0.011866        1.000000        -0.011421   \n",
       "EstimatedSalary          0.014204  -0.009933       -0.011421         1.000000   \n",
       "Exited                  -0.047611  -0.006976       -0.156356         0.012490   \n",
       "Complain                -0.046357  -0.007095       -0.154741         0.012494   \n",
       "Satisfaction Score      -0.011394  -0.000212        0.010236        -0.013747   \n",
       "Point Earned            -0.015330  -0.011041       -0.004983        -0.001515   \n",
       "Geography_Germany       -0.010419   0.010577       -0.020486         0.010297   \n",
       "Geography_Spain          0.009039  -0.013480        0.016732        -0.006482   \n",
       "Card Type_GOLD          -0.008558  -0.013251        0.011189         0.004628   \n",
       "Card Type_PLATINUM       0.020721   0.001915        0.004081         0.001076   \n",
       "Card Type_SILVER         0.006603   0.008147        0.007541         0.010052   \n",
       "Geography_France         0.001230   0.002467        0.003317        -0.003332   \n",
       "\n",
       "                      Exited  Complain  Satisfaction Score  Point Earned  \\\n",
       "CreditScore        -0.026771 -0.027048           -0.012599      0.000077   \n",
       "Gender             -0.106267 -0.106287            0.000242     -0.013225   \n",
       "Age                 0.285296  0.283530           -0.000876      0.002222   \n",
       "Tenure             -0.013656 -0.013047            0.008663     -0.010196   \n",
       "Balance             0.118577  0.119124           -0.002588      0.014608   \n",
       "NumOfProducts      -0.047611 -0.046357           -0.011394     -0.015330   \n",
       "HasCrCard          -0.006976 -0.007095           -0.000212     -0.011041   \n",
       "IsActiveMember     -0.156356 -0.154741            0.010236     -0.004983   \n",
       "EstimatedSalary     0.012490  0.012494           -0.013747     -0.001515   \n",
       "Exited              1.000000  0.995693           -0.005849     -0.004628   \n",
       "Complain            0.995693  1.000000           -0.004799     -0.002893   \n",
       "Satisfaction Score -0.005849 -0.004799            1.000000     -0.014400   \n",
       "Point Earned       -0.004628 -0.002893           -0.014400      1.000000   \n",
       "Geography_Germany   0.173313  0.175122           -0.003220      0.009479   \n",
       "Geography_Spain    -0.052800 -0.053596           -0.000030     -0.012886   \n",
       "Card Type_GOLD     -0.015995 -0.015692            0.012559      0.001843   \n",
       "Card Type_PLATINUM -0.000276  0.000586           -0.001550      0.005933   \n",
       "Card Type_SILVER   -0.003834 -0.004688           -0.002703     -0.006414   \n",
       "Geography_France   -0.104688 -0.105570            0.002818      0.002907   \n",
       "\n",
       "                    Geography_Germany  Geography_Spain  Card Type_GOLD  \\\n",
       "CreditScore                  0.005538         0.004780        0.010840   \n",
       "Gender                      -0.024628         0.016889        0.034619   \n",
       "Age                          0.046897        -0.001685        0.000917   \n",
       "Tenure                      -0.000567         0.003868        0.012292   \n",
       "Balance                      0.401110        -0.134892        0.001939   \n",
       "NumOfProducts               -0.010419         0.009039       -0.008558   \n",
       "HasCrCard                    0.010577        -0.013480       -0.013251   \n",
       "IsActiveMember              -0.020486         0.016732        0.011189   \n",
       "EstimatedSalary              0.010297        -0.006482        0.004628   \n",
       "Exited                       0.173313        -0.052800       -0.015995   \n",
       "Complain                     0.175122        -0.053596       -0.015692   \n",
       "Satisfaction Score          -0.003220        -0.000030        0.012559   \n",
       "Point Earned                 0.009479        -0.012886        0.001843   \n",
       "Geography_Germany            1.000000        -0.332084        0.013446   \n",
       "Geography_Spain             -0.332084         1.000000       -0.003073   \n",
       "Card Type_GOLD               0.013446        -0.003073        1.000000   \n",
       "Card Type_PLATINUM          -0.009593         0.002671       -0.333066   \n",
       "Card Type_SILVER            -0.013989        -0.003886       -0.333155   \n",
       "Geography_France            -0.580359        -0.575418       -0.009006   \n",
       "\n",
       "                    Card Type_PLATINUM  Card Type_SILVER  Geography_France  \n",
       "CreditScore                  -0.013563         -0.000550         -0.008928  \n",
       "Gender                       -0.013238         -0.010241          0.006772  \n",
       "Age                           0.004740         -0.009492         -0.039208  \n",
       "Tenure                       -0.018773          0.007195         -0.002848  \n",
       "Balance                      -0.007330         -0.019068         -0.231329  \n",
       "NumOfProducts                 0.020721          0.006603          0.001230  \n",
       "HasCrCard                     0.001915          0.008147          0.002467  \n",
       "IsActiveMember                0.004081          0.007541          0.003317  \n",
       "EstimatedSalary               0.001076          0.010052         -0.003332  \n",
       "Exited                       -0.000276         -0.003834         -0.104688  \n",
       "Complain                      0.000586         -0.004688         -0.105570  \n",
       "Satisfaction Score           -0.001550         -0.002703          0.002818  \n",
       "Point Earned                  0.005933         -0.006414          0.002907  \n",
       "Geography_Germany            -0.009593         -0.013989         -0.580359  \n",
       "Geography_Spain               0.002671         -0.003886         -0.575418  \n",
       "Card Type_GOLD               -0.333066         -0.333155         -0.009006  \n",
       "Card Type_PLATINUM            1.000000         -0.332534          0.006012  \n",
       "Card Type_SILVER             -0.332534          1.000000          0.015484  \n",
       "Geography_France              0.006012          0.015484          1.000000  "
      ]
     },
     "execution_count": 51,
     "metadata": {},
     "output_type": "execute_result"
    }
   ],
   "source": [
    "df.corr()\n"
   ]
  },
  {
   "cell_type": "markdown",
   "id": "d0ad3fd3",
   "metadata": {},
   "source": [
    "### Correlation between features"
   ]
  },
  {
   "cell_type": "code",
   "execution_count": 52,
   "id": "3cde5d39",
   "metadata": {},
   "outputs": [
    {
     "data": {
      "text/plain": [
       "<AxesSubplot:>"
      ]
     },
     "execution_count": 52,
     "metadata": {},
     "output_type": "execute_result"
    },
    {
     "data": {
      "image/png": "[encoded data removed]",
      "text/plain": [
       "<Figure size 1000x800 with 2 Axes>"
      ]
     },
     "metadata": {},
     "output_type": "display_data"
    }
   ],
   "source": [
    "plt.figure(figsize=(10,8))\n",
    "sns.heatmap(df.corr(), annot=False, cmap='coolwarm')"
   ]
  },
  {
   "cell_type": "markdown",
   "id": "54729454",
   "metadata": {},
   "source": [
    "Feature refinement"
   ]
  },
  {
   "cell_type": "code",
   "execution_count": 53,
   "id": "4c0697f4",
   "metadata": {},
   "outputs": [],
   "source": [
    "#Create a feature for average points per product\n",
    "#df['Points_Per_Product'] = df['Point Earned'] / (df['NumOfProducts'] + 1)"
   ]
  },
  {
   "cell_type": "code",
   "execution_count": 54,
   "id": "22dcb6ac",
   "metadata": {},
   "outputs": [
    {
     "data": {
      "text/plain": [
       "Index(['CreditScore', 'Gender', 'Age', 'Tenure', 'Balance', 'NumOfProducts',\n",
       "       'HasCrCard', 'IsActiveMember', 'EstimatedSalary', 'Exited', 'Complain',\n",
       "       'Satisfaction Score', 'Point Earned', 'Geography_Germany',\n",
       "       'Geography_Spain', 'Card Type_GOLD', 'Card Type_PLATINUM',\n",
       "       'Card Type_SILVER', 'Geography', 'Geography_France', 'CardType'],\n",
       "      dtype='object')"
      ]
     },
     "execution_count": 54,
     "metadata": {},
     "output_type": "execute_result"
    }
   ],
   "source": [
    "df.columns"
   ]
  },
  {
   "cell_type": "code",
   "execution_count": 55,
   "id": "26ada771",
   "metadata": {},
   "outputs": [],
   "source": [
    "\n",
    "# drop these columns, as they have been encoded by one-hot-encoder into their own features and\n",
    "# 'HasCrCard', 'IsActiveMember' do to leakage\n",
    "df = df.drop(columns=['Geography','CardType','HasCrCard', 'IsActiveMember'])"
   ]
  },
  {
   "cell_type": "markdown",
   "id": "68ee6e97",
   "metadata": {},
   "source": [
    "### modeling\n",
    "- Random Forest Classifier - Ensemble method"
   ]
  },
  {
   "cell_type": "code",
   "execution_count": 56,
   "id": "5d09ea15",
   "metadata": {},
   "outputs": [],
   "source": [
    "# split data into training and test sets\n",
    "\n",
    "from sklearn.model_selection import train_test_split\n",
    "X = df.drop('Exited', axis = 1)\n",
    "y = df['Exited']\n",
    "X_train,X_test,y_train,y_test = train_test_split(X,y, test_size = .20, random_state =42)"
   ]
  },
  {
   "cell_type": "code",
   "execution_count": 57,
   "id": "15e6c68d",
   "metadata": {},
   "outputs": [
    {
     "data": {
      "text/plain": [
       "RandomForestClassifier()"
      ]
     },
     "execution_count": 57,
     "metadata": {},
     "output_type": "execute_result"
    }
   ],
   "source": [
    "# train random forest model\n",
    "\n",
    "from sklearn.ensemble import RandomForestClassifier\n",
    "rf_model = RandomForestClassifier()\n",
    "rf_model.fit(X_train,y_train)"
   ]
  },
  {
   "cell_type": "code",
   "execution_count": 58,
   "id": "11b9ca3a",
   "metadata": {},
   "outputs": [
    {
     "data": {
      "text/plain": [
       "Index(['CreditScore', 'Gender', 'Age', 'Tenure', 'Balance', 'NumOfProducts',\n",
       "       'EstimatedSalary', 'Complain', 'Satisfaction Score', 'Point Earned',\n",
       "       'Geography_Germany', 'Geography_Spain', 'Card Type_GOLD',\n",
       "       'Card Type_PLATINUM', 'Card Type_SILVER', 'Geography_France'],\n",
       "      dtype='object')"
      ]
     },
     "execution_count": 58,
     "metadata": {},
     "output_type": "execute_result"
    }
   ],
   "source": [
    "X_test.columns\n"
   ]
  },
  {
   "cell_type": "code",
   "execution_count": 59,
   "id": "4e3126ce",
   "metadata": {},
   "outputs": [
    {
     "data": {
      "text/html": [
       "<div>\n",
       "<style scoped>\n",
       "    .dataframe tbody tr th:only-of-type {\n",
       "        vertical-align: middle;\n",
       "    }\n",
       "\n",
       "    .dataframe tbody tr th {\n",
       "        vertical-align: top;\n",
       "    }\n",
       "\n",
       "    .dataframe thead th {\n",
       "        text-align: right;\n",
       "    }\n",
       "</style>\n",
       "<table border=\"1\" class=\"dataframe\">\n",
       "  <thead>\n",
       "    <tr style=\"text-align: right;\">\n",
       "      <th></th>\n",
       "      <th>CreditScore</th>\n",
       "      <th>Gender</th>\n",
       "      <th>Age</th>\n",
       "      <th>Tenure</th>\n",
       "      <th>Balance</th>\n",
       "      <th>NumOfProducts</th>\n",
       "      <th>EstimatedSalary</th>\n",
       "      <th>Complain</th>\n",
       "      <th>Satisfaction Score</th>\n",
       "      <th>Point Earned</th>\n",
       "      <th>Geography_Germany</th>\n",
       "      <th>Geography_Spain</th>\n",
       "      <th>Card Type_GOLD</th>\n",
       "      <th>Card Type_PLATINUM</th>\n",
       "      <th>Card Type_SILVER</th>\n",
       "      <th>Geography_France</th>\n",
       "    </tr>\n",
       "  </thead>\n",
       "  <tbody>\n",
       "    <tr>\n",
       "      <th>9254</th>\n",
       "      <td>0.367013</td>\n",
       "      <td>1</td>\n",
       "      <td>-0.660018</td>\n",
       "      <td>0.341352</td>\n",
       "      <td>-1.225848</td>\n",
       "      <td>0.807737</td>\n",
       "      <td>1.373784</td>\n",
       "      <td>0</td>\n",
       "      <td>2</td>\n",
       "      <td>-0.427221</td>\n",
       "      <td>0</td>\n",
       "      <td>0</td>\n",
       "      <td>0</td>\n",
       "      <td>0</td>\n",
       "      <td>0</td>\n",
       "      <td>1</td>\n",
       "    </tr>\n",
       "    <tr>\n",
       "      <th>1561</th>\n",
       "      <td>-0.191713</td>\n",
       "      <td>1</td>\n",
       "      <td>0.293517</td>\n",
       "      <td>-0.350204</td>\n",
       "      <td>0.691389</td>\n",
       "      <td>0.807737</td>\n",
       "      <td>1.667407</td>\n",
       "      <td>0</td>\n",
       "      <td>4</td>\n",
       "      <td>1.560265</td>\n",
       "      <td>1</td>\n",
       "      <td>0</td>\n",
       "      <td>0</td>\n",
       "      <td>1</td>\n",
       "      <td>0</td>\n",
       "      <td>0</td>\n",
       "    </tr>\n",
       "    <tr>\n",
       "      <th>1670</th>\n",
       "      <td>-0.947028</td>\n",
       "      <td>1</td>\n",
       "      <td>-1.422847</td>\n",
       "      <td>-0.695982</td>\n",
       "      <td>0.613102</td>\n",
       "      <td>-0.911583</td>\n",
       "      <td>-0.246910</td>\n",
       "      <td>1</td>\n",
       "      <td>4</td>\n",
       "      <td>-1.237266</td>\n",
       "      <td>0</td>\n",
       "      <td>1</td>\n",
       "      <td>0</td>\n",
       "      <td>0</td>\n",
       "      <td>1</td>\n",
       "      <td>0</td>\n",
       "    </tr>\n",
       "    <tr>\n",
       "      <th>6087</th>\n",
       "      <td>-0.926334</td>\n",
       "      <td>0</td>\n",
       "      <td>-1.136786</td>\n",
       "      <td>1.378686</td>\n",
       "      <td>0.948021</td>\n",
       "      <td>-0.911583</td>\n",
       "      <td>0.921446</td>\n",
       "      <td>1</td>\n",
       "      <td>2</td>\n",
       "      <td>-0.174912</td>\n",
       "      <td>0</td>\n",
       "      <td>0</td>\n",
       "      <td>0</td>\n",
       "      <td>0</td>\n",
       "      <td>1</td>\n",
       "      <td>1</td>\n",
       "    </tr>\n",
       "    <tr>\n",
       "      <th>6669</th>\n",
       "      <td>-1.381593</td>\n",
       "      <td>1</td>\n",
       "      <td>1.628468</td>\n",
       "      <td>1.378686</td>\n",
       "      <td>1.052363</td>\n",
       "      <td>-0.911583</td>\n",
       "      <td>-1.053812</td>\n",
       "      <td>1</td>\n",
       "      <td>3</td>\n",
       "      <td>0.533323</td>\n",
       "      <td>0</td>\n",
       "      <td>0</td>\n",
       "      <td>0</td>\n",
       "      <td>1</td>\n",
       "      <td>0</td>\n",
       "      <td>1</td>\n",
       "    </tr>\n",
       "  </tbody>\n",
       "</table>\n",
       "</div>"
      ],
      "text/plain": [
       "      CreditScore  Gender       Age    Tenure   Balance  NumOfProducts  \\\n",
       "9254     0.367013       1 -0.660018  0.341352 -1.225848       0.807737   \n",
       "1561    -0.191713       1  0.293517 -0.350204  0.691389       0.807737   \n",
       "1670    -0.947028       1 -1.422847 -0.695982  0.613102      -0.911583   \n",
       "6087    -0.926334       0 -1.136786  1.378686  0.948021      -0.911583   \n",
       "6669    -1.381593       1  1.628468  1.378686  1.052363      -0.911583   \n",
       "\n",
       "      EstimatedSalary  Complain  Satisfaction Score  Point Earned  \\\n",
       "9254         1.373784         0                   2     -0.427221   \n",
       "1561         1.667407         0                   4      1.560265   \n",
       "1670        -0.246910         1                   4     -1.237266   \n",
       "6087         0.921446         1                   2     -0.174912   \n",
       "6669        -1.053812         1                   3      0.533323   \n",
       "\n",
       "      Geography_Germany  Geography_Spain  Card Type_GOLD  Card Type_PLATINUM  \\\n",
       "9254                  0                0               0                   0   \n",
       "1561                  1                0               0                   1   \n",
       "1670                  0                1               0                   0   \n",
       "6087                  0                0               0                   0   \n",
       "6669                  0                0               0                   1   \n",
       "\n",
       "      Card Type_SILVER  Geography_France  \n",
       "9254                 0                 1  \n",
       "1561                 0                 0  \n",
       "1670                 1                 0  \n",
       "6087                 1                 1  \n",
       "6669                 0                 1  "
      ]
     },
     "execution_count": 59,
     "metadata": {},
     "output_type": "execute_result"
    }
   ],
   "source": [
    "X_train.head()"
   ]
  },
  {
   "cell_type": "code",
   "execution_count": 60,
   "id": "4a342205",
   "metadata": {},
   "outputs": [
    {
     "data": {
      "text/plain": [
       "9254    0\n",
       "1561    0\n",
       "1670    1\n",
       "6087    1\n",
       "6669    1\n",
       "Name: Exited, dtype: int64"
      ]
     },
     "execution_count": 60,
     "metadata": {},
     "output_type": "execute_result"
    }
   ],
   "source": [
    "y_train.head()"
   ]
  },
  {
   "cell_type": "code",
   "execution_count": 61,
   "id": "41b62b76",
   "metadata": {},
   "outputs": [
    {
     "data": {
      "text/plain": [
       "6252    0\n",
       "4684    0\n",
       "1731    0\n",
       "4742    0\n",
       "4521    0\n",
       "Name: Exited, dtype: int64"
      ]
     },
     "execution_count": 61,
     "metadata": {},
     "output_type": "execute_result"
    }
   ],
   "source": [
    "y_test.head()"
   ]
  },
  {
   "cell_type": "code",
   "execution_count": 62,
   "id": "662be8e5",
   "metadata": {},
   "outputs": [
    {
     "name": "stdout",
     "output_type": "stream",
     "text": [
      "0.999\n",
      "              precision    recall  f1-score   support\n",
      "\n",
      "           0       1.00      1.00      1.00      1607\n",
      "           1       1.00      1.00      1.00       393\n",
      "\n",
      "    accuracy                           1.00      2000\n",
      "   macro avg       1.00      1.00      1.00      2000\n",
      "weighted avg       1.00      1.00      1.00      2000\n",
      "\n"
     ]
    }
   ],
   "source": [
    "#evaluate model performance using accuracy score\n",
    "\n",
    "from sklearn.metrics import accuracy_score, classification_report\n",
    "\n",
    "y_pred = rf_model.predict(X_test)\n",
    "print(accuracy_score(y_test,y_pred))\n",
    "print(classification_report(y_test,y_pred))"
   ]
  },
  {
   "cell_type": "markdown",
   "id": "a6c5fffb",
   "metadata": {
    "scrolled": true
   },
   "source": [
    "The performance metrics obtained for this model are exceptionally high.Given the accuracy is .999, precision, recall, and f1-score all being 1.00, the model is performing perfectly on both classes (churned and non-churned). However, such perfect results could be an indication of overfitting.\n",
    "\n"
   ]
  },
  {
   "cell_type": "markdown",
   "id": "1acdd865",
   "metadata": {
    "scrolled": true
   },
   "source": [
    "Check the Distribution of Classes (Churned vs. Non-Churned)"
   ]
  },
  {
   "cell_type": "code",
   "execution_count": 63,
   "id": "4c230bb2",
   "metadata": {},
   "outputs": [
    {
     "data": {
      "image/png": "[encoded data removed]",
      "text/plain": [
       "<Figure size 600x400 with 1 Axes>"
      ]
     },
     "metadata": {},
     "output_type": "display_data"
    }
   ],
   "source": [
    "# Visualize the distribution of the target variable (Exited)\n",
    "# Plot the distribution of the target variable ('Exited')\n",
    "\n",
    "plt.figure(figsize=(6,4))\n",
    "sns.countplot(x='Exited', data=df)\n",
    "plt.title('Churn vs Non-Churn Distribution')\n",
    "plt.xlabel('Exited (Churned = 1, Retained = 0)')\n",
    "plt.ylabel('Count')\n",
    "plt.show()"
   ]
  },
  {
   "cell_type": "code",
   "execution_count": 64,
   "id": "c85a9f0c",
   "metadata": {},
   "outputs": [
    {
     "name": "stdout",
     "output_type": "stream",
     "text": [
      "0    79.62\n",
      "1    20.38\n",
      "Name: Exited, dtype: float64\n"
     ]
    }
   ],
   "source": [
    "# Check the percentage of each class:\n",
    "churn_distribution = df['Exited'].value_counts(normalize=True) * 100\n",
    "print(churn_distribution)\n"
   ]
  },
  {
   "cell_type": "markdown",
   "id": "7ed4e3ed",
   "metadata": {},
   "source": [
    "This indicates an imbalanced dataset, where there are significantly more non-churned customers than churned customers. This can lead to the model predicting the majority class (non-churned) more often, resulting in high accuracy but poor performance in predicting the minority class (churned).\n",
    "- Course of action to resovle data imbalance: Resampling the data\n",
    "- Course of action to resolve possible over fitting: remove features that might be causing leakage"
   ]
  },
  {
   "cell_type": "code",
   "execution_count": 65,
   "id": "f835e20a",
   "metadata": {},
   "outputs": [
    {
     "name": "stdout",
     "output_type": "stream",
     "text": [
      "               Feature  Importance\n",
      "7             Complain    0.846244\n",
      "2                  Age    0.052761\n",
      "5        NumOfProducts    0.045799\n",
      "4              Balance    0.010477\n",
      "10   Geography_Germany    0.009539\n",
      "6      EstimatedSalary    0.007488\n",
      "9         Point Earned    0.007247\n",
      "0          CreditScore    0.007150\n",
      "3               Tenure    0.003173\n",
      "1               Gender    0.002979\n",
      "8   Satisfaction Score    0.002165\n",
      "15    Geography_France    0.001788\n",
      "11     Geography_Spain    0.000929\n",
      "12      Card Type_GOLD    0.000803\n",
      "14    Card Type_SILVER    0.000785\n",
      "13  Card Type_PLATINUM    0.000674\n"
     ]
    }
   ],
   "source": [
    "importances = rf_model.feature_importances_\n",
    "feature_names = X_train.columns\n",
    "feature_importance = pd.DataFrame({'Feature': feature_names, 'Importance': importances})\n",
    "feature_importance = feature_importance.sort_values(by='Importance', ascending=False)\n",
    "print(feature_importance)\n"
   ]
  },
  {
   "cell_type": "raw",
   "id": "ab759551",
   "metadata": {},
   "source": [
    " Remove High-Risk Features:\n",
    "\n",
    "Remove the following features suspected of leakage or minimal contribution:\n",
    "    Complain\n",
    "    Satisfaction Score\n",
    "    Point Earned\n",
    "    Points_Per_Product"
   ]
  },
  {
   "cell_type": "code",
   "execution_count": 66,
   "id": "a21062a7",
   "metadata": {},
   "outputs": [],
   "source": [
    "### HANDLE LEAKAGE\n",
    "# List of features to drop do to possible leakage\n",
    "features_to_drop = ['Complain', 'Satisfaction Score', 'Point Earned']\n",
    "\n",
    "# Drop features from the training and test sets\n",
    "X_train = X_train.drop(columns=features_to_drop)\n",
    "X_test = X_test.drop(columns=features_to_drop)\n"
   ]
  },
  {
   "cell_type": "markdown",
   "id": "1ee32ecf",
   "metadata": {},
   "source": [
    "Balance data"
   ]
  },
  {
   "cell_type": "code",
   "execution_count": 67,
   "id": "25b82855",
   "metadata": {},
   "outputs": [],
   "source": [
    "# pip install imbalanced-learn"
   ]
  },
  {
   "cell_type": "code",
   "execution_count": 68,
   "id": "5fb4aad8",
   "metadata": {},
   "outputs": [],
   "source": [
    "from imblearn.over_sampling import SMOTE\n",
    "from imblearn.under_sampling import RandomUnderSampler"
   ]
  },
  {
   "cell_type": "markdown",
   "id": "df66c0ac",
   "metadata": {},
   "source": [
    "A note about SMOTE(Synthetic Minority Over-sampling Technique): \n",
    "\n",
    "    SMOTE is a technique used to address class imbalance by creating synthetic examples of the minority class.It works by selecting examples that are in the minority class, and for each such example, it creates synthetic examples by interpolating between the example and its nearest neighbors in the feature space."
   ]
  },
  {
   "cell_type": "code",
   "execution_count": 69,
   "id": "08aecf63",
   "metadata": {},
   "outputs": [
    {
     "name": "stdout",
     "output_type": "stream",
     "text": [
      "Resampled Training Set Distribution:\n",
      "0    6355\n",
      "1    6355\n",
      "Name: Exited, dtype: int64\n"
     ]
    }
   ],
   "source": [
    "### HANDLE DATA IMBALANCE\n",
    "# Apply SMOTE only on the training data to avoid leakage.The test set should remain \n",
    "# untouched to simulate real-world scenarios where the model encounters unseen data.\n",
    "\n",
    "smote = SMOTE(random_state=42)\n",
    "\n",
    "# Apply SMOTE to the training data\n",
    "X_train_resampled, y_train_resampled = smote.fit_resample(X_train, y_train)\n",
    "\n",
    "# Checking the distribution of the resampled training set\n",
    "print(f\"Resampled Training Set Distribution:\\n{y_train_resampled.value_counts()}\")\n"
   ]
  },
  {
   "cell_type": "markdown",
   "id": "900456ac",
   "metadata": {},
   "source": [
    "### Data is now balanced and possible leakage handled, now model training can begin."
   ]
  },
  {
   "cell_type": "code",
   "execution_count": 70,
   "id": "ebf97655",
   "metadata": {},
   "outputs": [
    {
     "data": {
      "text/plain": [
       "RandomForestClassifier()"
      ]
     },
     "execution_count": 70,
     "metadata": {},
     "output_type": "execute_result"
    }
   ],
   "source": [
    "rf_model.fit(X_train_resampled, y_train_resampled)\n"
   ]
  },
  {
   "cell_type": "code",
   "execution_count": 71,
   "id": "fb4e4310",
   "metadata": {},
   "outputs": [
    {
     "name": "stdout",
     "output_type": "stream",
     "text": [
      "0.826\n",
      "              precision    recall  f1-score   support\n",
      "\n",
      "           0       0.89      0.89      0.89      1607\n",
      "           1       0.56      0.57      0.56       393\n",
      "\n",
      "    accuracy                           0.83      2000\n",
      "   macro avg       0.72      0.73      0.73      2000\n",
      "weighted avg       0.83      0.83      0.83      2000\n",
      "\n"
     ]
    }
   ],
   "source": [
    "y_pred = rf_model.predict(X_test)\n",
    "print(accuracy_score(y_test, y_pred))\n",
    "print(classification_report(y_test, y_pred))\n"
   ]
  },
  {
   "cell_type": "code",
   "execution_count": 72,
   "id": "b8a71e3f",
   "metadata": {},
   "outputs": [
    {
     "data": {
      "text/plain": [
       "array([0.84107002, 0.88630999, 0.92368214, 0.90283242, 0.91817467])"
      ]
     },
     "execution_count": 72,
     "metadata": {},
     "output_type": "execute_result"
    }
   ],
   "source": [
    "from sklearn.model_selection import cross_val_score\n",
    "cross_val_score(rf_model, X_train_resampled, y_train_resampled, cv=5)\n"
   ]
  },
  {
   "cell_type": "code",
   "execution_count": 73,
   "id": "e47f7d32",
   "metadata": {},
   "outputs": [
    {
     "data": {
      "image/png": "[encoded data removed]",
      "text/plain": [
       "<Figure size 640x480 with 2 Axes>"
      ]
     },
     "metadata": {},
     "output_type": "display_data"
    }
   ],
   "source": [
    "from sklearn.metrics import confusion_matrix\n",
    "import seaborn as sns\n",
    "cm = confusion_matrix(y_test, y_pred)\n",
    "sns.heatmap(cm, annot=True, fmt='d', cmap='Blues', xticklabels=['Non-Churned', 'Churned'], yticklabels=['Non-Churned', 'Churned'])\n",
    "plt.xlabel('Predicted')\n",
    "plt.ylabel('Actual')\n",
    "plt.title('Confusion Matrix')\n",
    "plt.show()\n"
   ]
  },
  {
   "cell_type": "code",
   "execution_count": 74,
   "id": "f926981b",
   "metadata": {},
   "outputs": [
    {
     "data": {
      "image/png": "[encoded data removed]",
      "text/plain": [
       "<Figure size 640x480 with 1 Axes>"
      ]
     },
     "metadata": {},
     "output_type": "display_data"
    }
   ],
   "source": [
    "from sklearn.metrics import precision_recall_curve\n",
    "from sklearn.metrics import auc\n",
    "\n",
    "y_prob = rf_model.predict_proba(X_test)[:, 1]\n",
    "precision, recall, thresholds = precision_recall_curve(y_test, y_prob)\n",
    "pr_auc = auc(recall, precision)\n",
    "\n",
    "plt.plot(recall, precision, color='blue', label=f'AUC = {pr_auc:.2f}')\n",
    "plt.xlabel('Recall')\n",
    "plt.ylabel('Precision')\n",
    "plt.title('Precision-Recall Curve')\n",
    "plt.legend()\n",
    "plt.show()\n",
    "\n",
    "# An AUC Score of 1.00 is perfect \n",
    "# An AUC of 0.58 suggests the model\n",
    "# is only slightly better than random guessing. It indicates poor discriminatory power.\n"
   ]
  },
  {
   "cell_type": "markdown",
   "id": "2db1ff75",
   "metadata": {},
   "source": [
    "The Area Under(AUC) the Receiver Operating Characteristic Curve (AUC-ROC) measures the model's ability to distinguish between classes (churn vs. no churn). An AUC of 0.5 indicates random guessing, while an AUC of 1.0 represents perfect discrimination.\n",
    " - In this case, the AUC is 0.58 which suggests the model is only slightly better than random guessing. It indicates poor discriminatory power."
   ]
  },
  {
   "cell_type": "markdown",
   "id": "a89263f3",
   "metadata": {},
   "source": [
    "### New Modeling Approach - XGBoost\n",
    " "
   ]
  },
  {
   "cell_type": "code",
   "execution_count": 75,
   "id": "3b308327",
   "metadata": {},
   "outputs": [
    {
     "name": "stdout",
     "output_type": "stream",
     "text": [
      "Requirement already satisfied: xgboost in c:\\users\\zzyzz\\anaconda3\\lib\\site-packages (2.1.3)\n",
      "Requirement already satisfied: scipy in c:\\users\\zzyzz\\anaconda3\\lib\\site-packages (from xgboost) (1.9.1)\n",
      "Requirement already satisfied: numpy in c:\\users\\zzyzz\\anaconda3\\lib\\site-packages (from xgboost) (1.21.5)\n",
      "Note: you may need to restart the kernel to use updated packages.\n"
     ]
    }
   ],
   "source": [
    "#pip install xgboost"
   ]
  },
  {
   "cell_type": "code",
   "execution_count": 76,
   "id": "d9416109",
   "metadata": {},
   "outputs": [],
   "source": [
    "import xgboost as xgb"
   ]
  },
  {
   "cell_type": "code",
   "execution_count": 82,
   "id": "b8ad7f6e",
   "metadata": {},
   "outputs": [
    {
     "data": {
      "text/plain": [
       "<AxesSubplot:title={'center':'Feature importance'}, xlabel='F score', ylabel='Features'>"
      ]
     },
     "execution_count": 82,
     "metadata": {},
     "output_type": "execute_result"
    },
    {
     "data": {
      "image/png": "[encoded data removed]",
      "text/plain": [
       "<Figure size 640x480 with 1 Axes>"
      ]
     },
     "metadata": {},
     "output_type": "display_data"
    }
   ],
   "source": [
    "# Plot feature importance\n",
    "xgb.plot_importance(xgb_model, importance_type='weight', max_num_features=10)\n"
   ]
  },
  {
   "cell_type": "code",
   "execution_count": 77,
   "id": "ec1cbbef",
   "metadata": {},
   "outputs": [
    {
     "name": "stderr",
     "output_type": "stream",
     "text": [
      "C:\\Users\\zzyzz\\Anaconda3\\lib\\site-packages\\xgboost\\core.py:158: UserWarning: [14:24:17] WARNING: C:\\buildkite-agent\\builds\\buildkite-windows-cpu-autoscaling-group-i-0c55ff5f71b100e98-1\\xgboost\\xgboost-ci-windows\\src\\learner.cc:740: \n",
      "Parameters: { \"use_label_encoder\" } are not used.\n",
      "\n",
      "  warnings.warn(smsg, UserWarning)\n"
     ]
    },
    {
     "data": {
      "text/plain": [
       "XGBClassifier(base_score=None, booster=None, callbacks=None,\n",
       "              colsample_bylevel=None, colsample_bynode=None,\n",
       "              colsample_bytree=None, device=None, early_stopping_rounds=None,\n",
       "              enable_categorical=False, eval_metric='mlogloss',\n",
       "              feature_types=None, gamma=None, grow_policy=None,\n",
       "              importance_type=None, interaction_constraints=None,\n",
       "              learning_rate=None, max_bin=None, max_cat_threshold=None,\n",
       "              max_cat_to_onehot=None, max_delta_step=None, max_depth=None,\n",
       "              max_leaves=None, min_child_weight=None, missing=nan,\n",
       "              monotone_constraints=None, multi_strategy=None, n_estimators=None,\n",
       "              n_jobs=None, num_parallel_tree=None, random_state=42, ...)"
      ]
     },
     "execution_count": 77,
     "metadata": {},
     "output_type": "execute_result"
    }
   ],
   "source": [
    "# Initialize the XGBoost model\n",
    "xgb_model = xgb.XGBClassifier(\n",
    "    random_state=42, \n",
    "    use_label_encoder=False, \n",
    "    eval_metric='mlogloss', \n",
    "    scale_pos_weight=len(y_train_resampled) / sum(y_train_resampled == 0)  # Adjust for imbalance\n",
    ")\n",
    "\n",
    "\n",
    "# Train the model on the resampled training set\n",
    "xgb_model.fit(X_train_resampled, y_train_resampled)\n"
   ]
  },
  {
   "cell_type": "code",
   "execution_count": 78,
   "id": "3dc883bd",
   "metadata": {},
   "outputs": [],
   "source": [
    "# Make predictions on the test set\n",
    "y_pred = xgb_model.predict(X_test)\n"
   ]
  },
  {
   "cell_type": "code",
   "execution_count": 79,
   "id": "23c4ab62",
   "metadata": {},
   "outputs": [
    {
     "name": "stdout",
     "output_type": "stream",
     "text": [
      "Accuracy: 0.812\n",
      "              precision    recall  f1-score   support\n",
      "\n",
      "           0       0.90      0.86      0.88      1607\n",
      "           1       0.52      0.62      0.56       393\n",
      "\n",
      "    accuracy                           0.81      2000\n",
      "   macro avg       0.71      0.74      0.72      2000\n",
      "weighted avg       0.83      0.81      0.82      2000\n",
      "\n"
     ]
    }
   ],
   "source": [
    "# Calculate accuracy\n",
    "accuracy = accuracy_score(y_test, y_pred)\n",
    "print(f\"Accuracy: {accuracy}\")\n",
    "\n",
    "# Classification report (precision, recall, F1-score)\n",
    "print(classification_report(y_test, y_pred))\n"
   ]
  },
  {
   "cell_type": "code",
   "execution_count": 84,
   "id": "da2cdea7",
   "metadata": {},
   "outputs": [
    {
     "name": "stdout",
     "output_type": "stream",
     "text": [
      "Fitting 3 folds for each of 256 candidates, totalling 768 fits\n"
     ]
    },
    {
     "name": "stderr",
     "output_type": "stream",
     "text": [
      "C:\\Users\\zzyzz\\Anaconda3\\lib\\site-packages\\xgboost\\core.py:158: UserWarning: [14:46:33] WARNING: C:\\buildkite-agent\\builds\\buildkite-windows-cpu-autoscaling-group-i-0c55ff5f71b100e98-1\\xgboost\\xgboost-ci-windows\\src\\learner.cc:740: \n",
      "Parameters: { \"use_label_encoder\" } are not used.\n",
      "\n",
      "  warnings.warn(smsg, UserWarning)\n"
     ]
    },
    {
     "name": "stdout",
     "output_type": "stream",
     "text": [
      "Best parameters: {'colsample_bytree': 1.0, 'learning_rate': 0.1, 'max_depth': 15, 'n_estimators': 200, 'scale_pos_weight': 1, 'subsample': 0.7}\n",
      "Accuracy with best model: 0.8385\n",
      "Classification Report:\n",
      "              precision    recall  f1-score   support\n",
      "\n",
      "           0       0.89      0.91      0.90      1607\n",
      "           1       0.60      0.55      0.57       393\n",
      "\n",
      "    accuracy                           0.84      2000\n",
      "   macro avg       0.74      0.73      0.74      2000\n",
      "weighted avg       0.83      0.84      0.84      2000\n",
      "\n",
      "AUC-ROC: 0.8350663683534665\n",
      "Precision: 0.5966850828729282\n",
      "Recall: 0.549618320610687\n",
      "F1-Score: 0.5721854304635762\n"
     ]
    }
   ],
   "source": [
    "from sklearn.metrics import classification_report, accuracy_score, roc_auc_score, precision_score, recall_score, f1_score\n",
    "from sklearn.model_selection import GridSearchCV\n",
    "\n",
    "\n",
    "# Define hyperparameter grid\n",
    "param_grid = {\n",
    "    'n_estimators': [100, 200],\n",
    "    'max_depth': [3, 6, 10, 15],\n",
    "    'learning_rate': [0.001, 0.01, 0.05, 0.1],\n",
    "    'subsample': [0.7, 1.0],\n",
    "    'colsample_bytree': [0.7, 1.0],\n",
    "    'scale_pos_weight': [1, len(y_train_resampled[y_train_resampled == 0]) / len(y_train_resampled[y_train_resampled == 1])]\n",
    "}\n",
    "\n",
    "# Perform GridSearchCV\n",
    "grid_search = GridSearchCV(estimator=xgb.XGBClassifier(random_state=42, use_label_encoder=False, eval_metric='auc'),\n",
    "                           param_grid=param_grid, cv=3, scoring='roc_auc', verbose=2, n_jobs=-1)\n",
    "\n",
    "# Fit the grid search\n",
    "grid_search.fit(X_train_resampled, y_train_resampled)\n",
    "\n",
    "# Print the best parameters\n",
    "print(f\"Best parameters: {grid_search.best_params_}\")\n",
    "\n",
    "# Use the best model to make predictions\n",
    "best_model = grid_search.best_estimator_\n",
    "y_pred_best = best_model.predict(X_test)\n",
    "y_pred_proba_best = best_model.predict_proba(X_test)[:, 1]\n",
    "\n",
    "# Evaluate the best model\n",
    "print(f\"Accuracy with best model: {accuracy_score(y_test, y_pred_best)}\")\n",
    "print(f\"Classification Report:\\n{classification_report(y_test, y_pred_best)}\")\n",
    "print(f\"AUC-ROC: {roc_auc_score(y_test, y_pred_proba_best)}\")\n",
    "print(f\"Precision: {precision_score(y_test, y_pred_best)}\")\n",
    "print(f\"Recall: {recall_score(y_test, y_pred_best)}\")\n",
    "print(f\"F1-Score: {f1_score(y_test, y_pred_best)}\")\n",
    "\n"
   ]
  },
  {
   "cell_type": "markdown",
   "id": "95e3c2d3",
   "metadata": {},
   "source": [
    "### What’s Working Well\n",
    "\n",
    "   - AUC-ROC: This suggests the model is effective at ranking churn vs. non-churn probabilities.\n",
    "   - General Accuracy: The model is robust for the overall dataset.\n",
    "   \n",
    "### Areas for Improvement\n",
    "\n",
    "   - Boost Recall for Class 1 (Churn):\n",
    "      -  Identifying churners is a priority, so I'll aim to increase recall for class 1.\n",
    "      -  Adjust the classification threshold to prioritize recall:"
   ]
  },
  {
   "cell_type": "code",
   "execution_count": 86,
   "id": "5f742b5d",
   "metadata": {},
   "outputs": [
    {
     "name": "stdout",
     "output_type": "stream",
     "text": [
      "Threshold: 0.3\n",
      "Precision: 0.54375\n",
      "Recall: 0.6641221374045801\n",
      "F1-Score: 0.5979381443298968\n",
      "Threshold: 0.4\n",
      "Precision: 0.5748792270531401\n",
      "Recall: 0.6055979643765903\n",
      "F1-Score: 0.5898389095415117\n",
      "Threshold: 0.5\n",
      "Precision: 0.5966850828729282\n",
      "Recall: 0.549618320610687\n",
      "F1-Score: 0.5721854304635762\n",
      "Threshold: 0.6\n",
      "Precision: 0.6270096463022508\n",
      "Recall: 0.4961832061068702\n",
      "F1-Score: 0.5539772727272727\n"
     ]
    }
   ],
   "source": [
    "from sklearn.metrics import precision_recall_curve\n",
    "\n",
    "# Predict probabilities\n",
    "y_pred_proba = best_model.predict_proba(X_test)[:, 1]\n",
    "\n",
    "# Adjust threshold\n",
    "thresholds = [0.3, 0.4, 0.5, 0.6]\n",
    "for threshold in thresholds:\n",
    "    y_pred_adjusted = (y_pred_proba >= threshold).astype(int)\n",
    "    print(f\"Threshold: {threshold}\")\n",
    "    print(f\"Precision: {precision_score(y_test, y_pred_adjusted)}\")\n",
    "    print(f\"Recall: {recall_score(y_test, y_pred_adjusted)}\")\n",
    "    print(f\"F1-Score: {f1_score(y_test, y_pred_adjusted)}\")\n"
   ]
  },
  {
   "cell_type": "markdown",
   "id": "dfb90c51",
   "metadata": {},
   "source": [
    "Business Context:\n",
    "\n",
    " -  If the cost of missing churners (false negatives) is high, choose a lower threshold (e.g., 0.3).\n",
    " -  If the cost of targeting non-churners unnecessarily (false positives) is high, use a higher threshold (e.g., 0.6).\n",
    "### Goal is to predict churning customers, therefore, threshold 0.03 will be used"
   ]
  },
  {
   "cell_type": "markdown",
   "id": "c0762bc8",
   "metadata": {},
   "source": [
    "### Customer Segmentation\n",
    " ###  Segmentation\tProbability Range\tDescription and\tSuggested Actions\n",
    " - High Risk\t≥ 0.7\tLikely to churn soon.\tImmediate, high-priority interventions.\n",
    " - Moderate Risk\t0.3–0.7\tMay churn but less urgent.\tTargeted campaigns, personalized offers.\n",
    " - Low Risk\t< 0.3\tUnlikely to churn.\tMaintain satisfaction, light engagement."
   ]
  },
  {
   "cell_type": "code",
   "execution_count": 90,
   "id": "c914c355",
   "metadata": {},
   "outputs": [],
   "source": [
    "# Predict probabilities\n",
    "y_pred_proba =best_model.predict_proba(X_test)[:, 1]\n",
    "\n",
    "# Add probabilities to the test data\n",
    "X_test['churn_probability'] = y_pred_proba\n",
    "\n"
   ]
  },
  {
   "cell_type": "code",
   "execution_count": 92,
   "id": "faf08f6d",
   "metadata": {},
   "outputs": [],
   "source": [
    "def assign_segment(probability):\n",
    "    if probability >= 0.7:\n",
    "        return 'High Risk'\n",
    "    elif probability >= 0.3:\n",
    "        return 'Moderate Risk'\n",
    "    else:\n",
    "        return 'Low Risk'\n",
    "\n",
    "# Apply segmentation\n",
    "X_test['churn_segment'] = X_test['churn_probability'].apply(assign_segment)\n"
   ]
  },
  {
   "cell_type": "code",
   "execution_count": 97,
   "id": "4caf06c9",
   "metadata": {},
   "outputs": [
    {
     "name": "stdout",
     "output_type": "stream",
     "text": [
      "Low Risk         0.7600\n",
      "High Risk        0.1325\n",
      "Moderate Risk    0.1075\n",
      "Name: churn_segment, dtype: float64\n"
     ]
    }
   ],
   "source": [
    "# Summarize the distribution of customers in each segment:\n",
    "\n",
    "segment_summary = X_test['churn_segment'].value_counts(normalize=True)\n",
    "print(segment_summary)\n"
   ]
  },
  {
   "cell_type": "code",
   "execution_count": 106,
   "id": "a876101d",
   "metadata": {},
   "outputs": [
    {
     "data": {
      "image/png": "[encoded data removed]",
      "text/plain": [
       "<Figure size 640x480 with 1 Axes>"
      ]
     },
     "metadata": {},
     "output_type": "display_data"
    }
   ],
   "source": [
    "# Plot segment distribution\n",
    "X_test['churn_segment'].value_counts().plot(kind='bar', color=['green', 'red', 'orange'])\n",
    "plt.title('Customer Segmentation by Churn Risk')\n",
    "plt.xlabel('Churn Segment')\n",
    "plt.ylabel('Number of Customers')\n",
    "plt.show()\n"
   ]
  },
  {
   "cell_type": "code",
   "execution_count": 104,
   "id": "8b6e9ed6",
   "metadata": {
    "scrolled": true
   },
   "outputs": [
    {
     "name": "stdout",
     "output_type": "stream",
     "text": [
      "               churn_probability       Age   Balance\n",
      "churn_segment                                       \n",
      "High Risk               0.897634  0.806988  0.243981\n",
      "Low Risk                0.047297 -0.195044 -0.053927\n",
      "Moderate Risk           0.486182  0.469589  0.309382\n"
     ]
    }
   ],
   "source": [
    "# Select key features for analysis\n",
    "segmentation_data = X_test[['churn_probability', 'churn_segment', 'Age', 'Balance']]\n",
    "\n",
    "# Group by segment for insights\n",
    "segment_insights = segmentation_data.groupby('churn_segment').mean()\n",
    "print(segment_insights)\n"
   ]
  },
  {
   "cell_type": "code",
   "execution_count": 105,
   "id": "53923d26",
   "metadata": {},
   "outputs": [
    {
     "data": {
      "image/png": "[encoded data removed]",
      "text/plain": [
       "<Figure size 640x480 with 1 Axes>"
      ]
     },
     "metadata": {},
     "output_type": "display_data"
    },
    {
     "data": {
      "image/png": "[encoded data removed]",
      "text/plain": [
       "<Figure size 640x480 with 1 Axes>"
      ]
     },
     "metadata": {},
     "output_type": "display_data"
    }
   ],
   "source": [
    "import seaborn as sns\n",
    "import matplotlib.pyplot as plt\n",
    "\n",
    "# Visualize Age distribution by churn segment\n",
    "sns.boxplot(x='churn_segment', y='Age', data=X_test, palette='Set2')\n",
    "plt.title('Age Distribution by Churn Segment')\n",
    "plt.show()\n",
    "\n",
    "# Visualize Balance distribution by churn segment\n",
    "sns.boxplot(x='churn_segment', y='Balance', data=X_test, palette='Set2')\n",
    "plt.title('Balance Distribution by Churn Segment')\n",
    "plt.show()\n"
   ]
  },
  {
   "cell_type": "markdown",
   "id": "98c3b99c",
   "metadata": {},
   "source": [
    "### Summary\n",
    "This predictive churn model provides the business with actionable insights into customer behavior, enabling targeted interventions that can reduce churn, enhance customer satisfaction, and improve profitability."
   ]
  },
  {
   "cell_type": "markdown",
   "id": "af9141a9",
   "metadata": {},
   "source": [
    "### Future approaches for refining and improving model performance:\n",
    "- Feature engineering\n",
    "- Use other machine learning models such as, logistic regression. CatBoost. LightGBM\n",
    "- Hyperparameter optimization\n",
    "- Different method for handling imbalanced data\n",
    "- Exploring other data from other sources\n"
   ]
  }
 ],
 "metadata": {
  "kernelspec": {
   "display_name": "Python 3 (ipykernel)",
   "language": "python",
   "name": "python3"
  },
  "language_info": {
   "codemirror_mode": {
    "name": "ipython",
    "version": 3
   },
   "file_extension": ".py",
   "mimetype": "text/x-python",
   "name": "python",
   "nbconvert_exporter": "python",
   "pygments_lexer": "ipython3",
   "version": "3.9.13"
  }
 },
 "nbformat": 4,
 "nbformat_minor": 5
}
